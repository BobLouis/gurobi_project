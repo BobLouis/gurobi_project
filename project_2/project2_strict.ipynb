{
 "cells": [
  {
   "cell_type": "markdown",
   "metadata": {},
   "source": [
    "<h1>import data excel</h1>"
   ]
  },
  {
   "cell_type": "code",
   "execution_count": 1,
   "metadata": {},
   "outputs": [],
   "source": [
    "from gurobipy import*\n",
    "import math\n",
    "import pandas as pd\n",
    "import numpy as np\n",
    "import csv"
   ]
  },
  {
   "cell_type": "code",
   "execution_count": 2,
   "metadata": {},
   "outputs": [
    {
     "name": "stdout",
     "output_type": "stream",
     "text": [
      "{1: [0, 0, 0, 0, 4, 1, 2, 0, 3, 0, 0, 0], 2: [0, 1, 0, 3, 0, 4, 0, 0, 2, 0, 0, 0], 3: [2, 4, 0, 0, 0, 3, 0, 0, 1, 0, 0, 0], 4: [0, 2, 1, 4, 0, 0, 3, 0, 0, 0, 0, 0], 5: [4, 0, 3, 0, 0, 0, 2, 0, 0, 1, 0, 0], 6: [1, 0, 2, 0, 0, 4, 0, 0, 0, 0, 3, 0], 7: [2, 0, 1, 0, 4, 0, 0, 0, 3, 0, 0, 0], 8: [1, 0, 3, 0, 0, 0, 0, 4, 0, 2, 0, 0], 9: [0, 1, 4, 0, 3, 0, 0, 0, 0, 0, 2, 0], 10: [4, 0, 2, 0, 0, 0, 0, 0, 0, 3, 0, 1], 11: [0, 0, 0, 4, 2, 0, 0, 3, 0, 1, 0, 0], 12: [1, 4, 0, 3, 0, 0, 0, 0, 0, 0, 2, 0], 13: [0, 2, 0, 4, 0, 0, 1, 0, 0, 0, 0, 3], 14: [0, 0, 4, 3, 1, 0, 0, 0, 0, 2, 0, 0], 15: [4, 3, 1, 2, 0, 0, 0, 0, 0, 0, 0, 0], 16: [2, 0, 0, 1, 0, 0, 0, 0, 3, 0, 4, 0], 17: [0, 3, 0, 0, 0, 0, 0, 4, 1, 0, 2, 0], 18: [0, 0, 0, 3, 0, 0, 4, 0, 0, 2, 1, 0], 19: [0, 3, 0, 4, 1, 0, 0, 0, 0, 0, 2, 0], 20: [0, 3, 0, 1, 0, 4, 2, 0, 0, 0, 0, 0], 21: [1, 0, 0, 4, 0, 3, 0, 0, 0, 2, 0, 0], 22: [2, 4, 0, 3, 1, 0, 0, 0, 0, 0, 0, 0], 23: [3, 0, 0, 2, 0, 0, 0, 4, 1, 0, 0, 0], 24: [0, 0, 1, 0, 2, 0, 0, 0, 4, 0, 0, 3], 25: [2, 0, 0, 1, 3, 0, 0, 0, 4, 0, 0, 0], 26: [1, 4, 0, 3, 0, 0, 0, 2, 0, 0, 0, 0], 27: [4, 0, 2, 0, 0, 0, 0, 0, 0, 3, 1, 0], 28: [0, 4, 1, 0, 0, 0, 0, 0, 0, 0, 3, 2], 29: [0, 3, 0, 4, 0, 0, 1, 0, 2, 0, 0, 0], 30: [0, 0, 0, 4, 2, 0, 0, 1, 0, 0, 0, 3], 31: [0, 1, 2, 4, 0, 3, 0, 0, 0, 0, 0, 0], 32: [3, 0, 2, 4, 0, 0, 0, 1, 0, 0, 0, 0], 33: [0, 4, 0, 2, 1, 0, 0, 0, 3, 0, 0, 0], 34: [1, 2, 0, 4, 0, 3, 0, 0, 0, 0, 0, 0], 35: [1, 0, 0, 0, 0, 2, 3, 0, 0, 0, 0, 4], 36: [0, 1, 4, 0, 0, 0, 0, 2, 0, 3, 0, 0], 37: [2, 0, 0, 0, 1, 0, 0, 0, 0, 0, 3, 4], 38: [0, 3, 0, 0, 0, 0, 2, 0, 1, 0, 4, 0], 39: [3, 1, 2, 0, 0, 0, 4, 0, 0, 0, 0, 0], 40: [0, 1, 0, 4, 0, 0, 0, 2, 3, 0, 0, 0], 41: [0, 0, 0, 0, 0, 2, 4, 0, 0, 0, 3, 1], 42: [0, 2, 0, 0, 3, 0, 0, 0, 0, 1, 4, 0], 43: [3, 2, 0, 4, 0, 0, 1, 0, 0, 0, 0, 0], 44: [0, 1, 0, 0, 0, 4, 2, 3, 0, 0, 0, 0], 45: [0, 0, 2, 0, 1, 3, 0, 0, 0, 0, 4, 0], 46: [4, 0, 0, 1, 0, 0, 0, 0, 0, 2, 0, 3], 47: [1, 4, 0, 2, 0, 0, 0, 0, 0, 0, 0, 3], 48: [0, 0, 2, 0, 0, 4, 0, 1, 3, 0, 0, 0], 49: [0, 0, 0, 2, 0, 0, 4, 0, 1, 3, 0, 0], 50: [0, 0, 4, 0, 3, 2, 0, 0, 1, 0, 0, 0]}\n",
      "[1, 2, 3, 4]\n",
      "[1, 2, 3, 4, 5, 6, 7, 8, 9, 10, 11, 12]\n"
     ]
    }
   ],
   "source": [
    "df={}\n",
    "m=12 #departments\n",
    "n=50 #students\n",
    "L=4  #departments rank\n",
    "K=4  #session\n",
    "Q=20 #limitation on each session\n",
    "h=5  #penalty that if the people exceed the limitation of each session\n",
    "df=pd.read_csv(\"./Prj2_test_data/Data_\"+str(n)+\"_\"+str(m)+\"_\"+str(L)+\".csv\")\n",
    "Student = list(range(1,n+1))\n",
    "Rank = {}\n",
    "for i in Student:\n",
    "    Rank[i] = list()\n",
    "    for j in range(1,m+1):\n",
    "        item = df.iloc[i-1][j]\n",
    "        if item>0:\n",
    "            Rank[i].append(L-item+1)\n",
    "        else:\n",
    "            Rank[i].append(0)\n",
    "Session = list(range(1,K+1))\n",
    "Department = list(range(1,m+1))\n",
    "print(Rank)        \n",
    "print(Session)\n",
    "print(Department)\n"
   ]
  },
  {
   "cell_type": "code",
   "execution_count": 3,
   "metadata": {
    "scrolled": false
   },
   "outputs": [
    {
     "name": "stdout",
     "output_type": "stream",
     "text": [
      "0\n"
     ]
    }
   ],
   "source": [
    "# print(df.iloc[2][1])\n",
    "# print(\"./Prj2_test_data/Data_\"+str(n)+\"_\"+str(m)+\"_\"+str(L)+\".csv\")\n",
    "# print(Student)\n",
    "print(Rank[1][1])"
   ]
  },
  {
   "cell_type": "code",
   "execution_count": 4,
   "metadata": {
    "scrolled": true
   },
   "outputs": [
    {
     "name": "stdout",
     "output_type": "stream",
     "text": [
      "Academic license - for non-commercial use only - expires 2022-08-16\n",
      "Using license file /Users/kounuki/gurobi.lic\n"
     ]
    }
   ],
   "source": [
    "model = Model(\"department\")\n",
    "x={} #the student mapping to certain departmaent in each session\n",
    "b={} #benefit that two variables multiple"
   ]
  },
  {
   "cell_type": "markdown",
   "metadata": {},
   "source": [
    "<h1>init variable</h1>"
   ]
  },
  {
   "cell_type": "code",
   "execution_count": 5,
   "metadata": {},
   "outputs": [],
   "source": [
    "for d in Student:\n",
    "    for s in Session:\n",
    "        b[d,s] = model.addVar(vtype=\"I\",name=\"b(%s,%s)\"%(d,s))\n",
    "        for p in Department:\n",
    "            x[d,s,p] = model.addVar(vtype = \"B\",name = \"x(%s,%s,%s)\"%(d,s,p))\n",
    "    \n",
    "model.update()"
   ]
  },
  {
   "cell_type": "markdown",
   "metadata": {},
   "source": [
    "<h1>adding constraint</h1>"
   ]
  },
  {
   "cell_type": "code",
   "execution_count": 6,
   "metadata": {},
   "outputs": [],
   "source": [
    "#define student that each session can only participates 1 department\n",
    "for d in Student:\n",
    "    for s in Session:\n",
    "        model.addConstr(quicksum(x[d,s,p] for p in Department) <=1,name = \"session restrict\")\n",
    "\n",
    "#define benefit\n",
    "for d in Student:\n",
    "    for s in Session:\n",
    "        model.addConstr(quicksum(x[d,s,p]*Rank[s][p-1] for p in Department) == b[d,s], name = \"benefit define\")\n",
    "\n",
    "#constraint on session limitation\n",
    "for s in Session:\n",
    "    for p in Department:\n",
    "        model.addConstr(quicksum(x[d,s,p] for d in Student) <= Q)\n",
    "    "
   ]
  },
  {
   "cell_type": "markdown",
   "metadata": {},
   "source": [
    "<h1>setting object</h1>"
   ]
  },
  {
   "cell_type": "code",
   "execution_count": 7,
   "metadata": {},
   "outputs": [
    {
     "name": "stdout",
     "output_type": "stream",
     "text": [
      "Gurobi Optimizer version 9.1.2 build v9.1.2rc0 (mac64)\n",
      "Thread count: 4 physical cores, 8 logical processors, using up to 8 threads\n",
      "Optimize a model with 448 rows, 2600 columns and 5800 nonzeros\n",
      "Model fingerprint: 0xb3693c82\n",
      "Variable types: 0 continuous, 2600 integer (2400 binary)\n",
      "Coefficient statistics:\n",
      "  Matrix range     [1e+00, 4e+00]\n",
      "  Objective range  [1e+00, 1e+00]\n",
      "  Bounds range     [1e+00, 1e+00]\n",
      "  RHS range        [1e+00, 2e+01]\n",
      "Found heuristic solution: objective -0.0000000\n",
      "Presolve removed 394 rows and 2400 columns\n",
      "Presolve time: 0.01s\n",
      "Presolved: 54 rows, 200 columns, 400 nonzeros\n",
      "Found heuristic solution: objective 640.0000000\n",
      "Variable types: 0 continuous, 200 integer (200 binary)\n",
      "\n",
      "Root relaxation: cutoff, 1 iterations, 0.00 seconds\n",
      "\n",
      "    Nodes    |    Current Node    |     Objective Bounds      |     Work\n",
      " Expl Unexpl |  Obj  Depth IntInf | Incumbent    BestBd   Gap | It/Node Time\n",
      "\n",
      "     0     0     cutoff    0       640.00000  640.00000  0.00%     -    0s\n",
      "\n",
      "Explored 0 nodes (1 simplex iterations) in 0.02 seconds\n",
      "Thread count was 8 (of 8 available processors)\n",
      "\n",
      "Solution count 2: 640 -0 \n",
      "\n",
      "Optimal solution found (tolerance 1.00e-04)\n",
      "Best objective 6.400000000000e+02, best bound 6.400000000000e+02, gap 0.0000%\n",
      "optimal value = 640.0\n"
     ]
    }
   ],
   "source": [
    "model.setObjective(quicksum(b[d,s] for (d,s) in b),GRB.MAXIMIZE)\n",
    "model.optimize()\n",
    "print(\"optimal value = %s\"%model.objVal )"
   ]
  },
  {
   "cell_type": "code",
   "execution_count": 8,
   "metadata": {},
   "outputs": [
    {
     "name": "stdout",
     "output_type": "stream",
     "text": [
      "No.1 student in No.1 session go to No.7 department\n",
      "No.1 student in No.2 session go to No.4 department\n",
      "No.1 student in No.3 session go to No.6 department\n",
      "No.1 student in No.4 session go to No.4 department\n",
      "No.2 student in No.1 session go to No.9 department\n",
      "No.2 student in No.2 session go to No.9 department\n",
      "No.2 student in No.3 session go to No.1 department\n",
      "No.2 student in No.4 session go to No.4 department\n",
      "No.3 student in No.1 session go to No.9 department\n",
      "No.3 student in No.2 session go to No.4 department\n",
      "No.3 student in No.3 session go to No.1 department\n",
      "No.3 student in No.4 session go to No.4 department\n",
      "No.4 student in No.1 session go to No.9 department\n",
      "No.4 student in No.2 session go to No.4 department\n",
      "No.4 student in No.3 session go to No.1 department\n",
      "No.4 student in No.4 session go to No.4 department\n",
      "No.5 student in No.1 session go to No.9 department\n",
      "No.5 student in No.2 session go to No.9 department\n",
      "No.5 student in No.3 session go to No.6 department\n",
      "No.5 student in No.4 session go to No.4 department\n",
      "No.6 student in No.1 session go to No.7 department\n",
      "No.6 student in No.2 session go to No.4 department\n",
      "No.6 student in No.3 session go to No.6 department\n",
      "No.6 student in No.4 session go to No.4 department\n",
      "No.7 student in No.1 session go to No.7 department\n",
      "No.7 student in No.2 session go to No.6 department\n",
      "No.7 student in No.3 session go to No.1 department\n",
      "No.7 student in No.4 session go to No.4 department\n",
      "No.8 student in No.1 session go to No.9 department\n",
      "No.8 student in No.2 session go to No.9 department\n",
      "No.8 student in No.3 session go to No.2 department\n",
      "No.8 student in No.4 session go to No.4 department\n",
      "No.9 student in No.1 session go to No.5 department\n",
      "No.9 student in No.2 session go to No.4 department\n",
      "No.9 student in No.3 session go to No.6 department\n",
      "No.9 student in No.4 session go to No.4 department\n",
      "No.10 student in No.1 session go to No.5 department\n",
      "No.10 student in No.2 session go to No.4 department\n",
      "No.10 student in No.3 session go to No.1 department\n",
      "No.10 student in No.4 session go to No.4 department\n",
      "No.11 student in No.1 session go to No.9 department\n",
      "No.11 student in No.2 session go to No.9 department\n",
      "No.11 student in No.3 session go to No.6 department\n",
      "No.11 student in No.4 session go to No.7 department\n",
      "No.12 student in No.1 session go to No.9 department\n",
      "No.12 student in No.2 session go to No.9 department\n",
      "No.12 student in No.3 session go to No.6 department\n",
      "No.12 student in No.4 session go to No.7 department\n",
      "No.13 student in No.1 session go to No.9 department\n",
      "No.13 student in No.2 session go to No.4 department\n",
      "No.13 student in No.3 session go to No.6 department\n",
      "No.13 student in No.4 session go to No.7 department\n",
      "No.14 student in No.1 session go to No.7 department\n",
      "No.14 student in No.2 session go to No.6 department\n",
      "No.14 student in No.3 session go to No.6 department\n",
      "No.14 student in No.4 session go to No.7 department\n",
      "No.15 student in No.1 session go to No.7 department\n",
      "No.15 student in No.2 session go to No.6 department\n",
      "No.15 student in No.3 session go to No.2 department\n",
      "No.15 student in No.4 session go to No.7 department\n",
      "No.16 student in No.1 session go to No.9 department\n",
      "No.16 student in No.2 session go to No.9 department\n",
      "No.16 student in No.3 session go to No.6 department\n",
      "No.16 student in No.4 session go to No.7 department\n",
      "No.17 student in No.1 session go to No.9 department\n",
      "No.17 student in No.2 session go to No.4 department\n",
      "No.17 student in No.3 session go to No.6 department\n",
      "No.17 student in No.4 session go to No.7 department\n",
      "No.18 student in No.1 session go to No.7 department\n",
      "No.18 student in No.2 session go to No.4 department\n",
      "No.18 student in No.3 session go to No.1 department\n",
      "No.18 student in No.4 session go to No.7 department\n",
      "No.19 student in No.1 session go to No.9 department\n",
      "No.19 student in No.2 session go to No.4 department\n",
      "No.19 student in No.3 session go to No.6 department\n",
      "No.19 student in No.4 session go to No.7 department\n",
      "No.20 student in No.1 session go to No.9 department\n",
      "No.20 student in No.2 session go to No.4 department\n",
      "No.20 student in No.3 session go to No.6 department\n",
      "No.20 student in No.4 session go to No.7 department\n",
      "No.21 student in No.1 session go to No.9 department\n",
      "No.21 student in No.2 session go to No.4 department\n",
      "No.21 student in No.3 session go to No.6 department\n",
      "No.21 student in No.4 session go to No.7 department\n",
      "No.22 student in No.1 session go to No.9 department\n",
      "No.22 student in No.2 session go to No.9 department\n",
      "No.22 student in No.3 session go to No.2 department\n",
      "No.22 student in No.4 session go to No.7 department\n",
      "No.23 student in No.1 session go to No.9 department\n",
      "No.23 student in No.2 session go to No.4 department\n",
      "No.23 student in No.3 session go to No.1 department\n",
      "No.23 student in No.4 session go to No.7 department\n",
      "No.24 student in No.1 session go to No.7 department\n",
      "No.24 student in No.2 session go to No.4 department\n",
      "No.24 student in No.3 session go to No.6 department\n",
      "No.24 student in No.4 session go to No.7 department\n",
      "No.25 student in No.1 session go to No.9 department\n",
      "No.25 student in No.2 session go to No.9 department\n",
      "No.25 student in No.3 session go to No.2 department\n",
      "No.25 student in No.4 session go to No.7 department\n",
      "No.26 student in No.1 session go to No.7 department\n",
      "No.26 student in No.2 session go to No.9 department\n",
      "No.26 student in No.3 session go to No.6 department\n",
      "No.26 student in No.4 session go to No.7 department\n",
      "No.27 student in No.1 session go to No.9 department\n",
      "No.27 student in No.2 session go to No.4 department\n",
      "No.27 student in No.3 session go to No.2 department\n",
      "No.27 student in No.4 session go to No.7 department\n",
      "No.28 student in No.1 session go to No.5 department\n",
      "No.28 student in No.2 session go to No.4 department\n",
      "No.28 student in No.3 session go to No.1 department\n",
      "No.28 student in No.4 session go to No.7 department\n",
      "No.29 student in No.1 session go to No.9 department\n",
      "No.29 student in No.2 session go to No.4 department\n",
      "No.29 student in No.3 session go to No.1 department\n",
      "No.29 student in No.4 session go to No.7 department\n",
      "No.30 student in No.1 session go to No.9 department\n",
      "No.30 student in No.2 session go to No.4 department\n",
      "No.30 student in No.3 session go to No.1 department\n",
      "No.30 student in No.4 session go to No.7 department\n",
      "No.31 student in No.1 session go to No.5 department\n",
      "No.31 student in No.2 session go to No.6 department\n",
      "No.31 student in No.3 session go to No.2 department\n",
      "No.31 student in No.4 session go to No.2 department\n",
      "No.32 student in No.1 session go to No.5 department\n",
      "No.32 student in No.2 session go to No.6 department\n",
      "No.32 student in No.3 session go to No.2 department\n",
      "No.32 student in No.4 session go to No.2 department\n",
      "No.33 student in No.1 session go to No.5 department\n",
      "No.33 student in No.2 session go to No.6 department\n",
      "No.33 student in No.3 session go to No.2 department\n",
      "No.33 student in No.4 session go to No.2 department\n",
      "No.34 student in No.1 session go to No.5 department\n",
      "No.34 student in No.2 session go to No.6 department\n",
      "No.34 student in No.3 session go to No.2 department\n",
      "No.34 student in No.4 session go to No.2 department\n",
      "No.35 student in No.1 session go to No.5 department\n",
      "No.35 student in No.2 session go to No.6 department\n",
      "No.35 student in No.3 session go to No.2 department\n",
      "No.35 student in No.4 session go to No.2 department\n",
      "No.36 student in No.1 session go to No.5 department\n",
      "No.36 student in No.2 session go to No.6 department\n",
      "No.36 student in No.3 session go to No.2 department\n",
      "No.36 student in No.4 session go to No.2 department\n",
      "No.37 student in No.1 session go to No.7 department\n",
      "No.37 student in No.2 session go to No.6 department\n",
      "No.37 student in No.3 session go to No.6 department\n",
      "No.37 student in No.4 session go to No.2 department\n",
      "No.38 student in No.1 session go to No.5 department\n",
      "No.38 student in No.2 session go to No.4 department\n",
      "No.38 student in No.3 session go to No.2 department\n",
      "No.38 student in No.4 session go to No.2 department\n",
      "No.39 student in No.1 session go to No.5 department\n",
      "No.39 student in No.2 session go to No.6 department\n",
      "No.39 student in No.3 session go to No.2 department\n",
      "No.39 student in No.4 session go to No.2 department\n",
      "No.40 student in No.1 session go to No.5 department\n",
      "No.40 student in No.2 session go to No.6 department\n",
      "No.40 student in No.3 session go to No.6 department\n",
      "No.40 student in No.4 session go to No.2 department\n",
      "No.41 student in No.1 session go to No.5 department\n",
      "No.41 student in No.2 session go to No.6 department\n",
      "No.41 student in No.3 session go to No.2 department\n",
      "No.41 student in No.4 session go to No.4 department\n",
      "No.42 student in No.1 session go to No.5 department\n",
      "No.42 student in No.2 session go to No.6 department\n",
      "No.42 student in No.3 session go to No.6 department\n",
      "No.42 student in No.4 session go to No.4 department\n",
      "No.43 student in No.1 session go to No.5 department\n",
      "No.43 student in No.2 session go to No.6 department\n",
      "No.43 student in No.3 session go to No.2 department\n",
      "No.43 student in No.4 session go to No.4 department\n",
      "No.44 student in No.1 session go to No.5 department\n",
      "No.44 student in No.2 session go to No.6 department\n",
      "No.44 student in No.3 session go to No.2 department\n",
      "No.44 student in No.4 session go to No.4 department\n",
      "No.45 student in No.1 session go to No.5 department\n",
      "No.45 student in No.2 session go to No.6 department\n",
      "No.45 student in No.3 session go to No.2 department\n",
      "No.45 student in No.4 session go to No.4 department\n",
      "No.46 student in No.1 session go to No.5 department\n",
      "No.46 student in No.2 session go to No.6 department\n",
      "No.46 student in No.3 session go to No.2 department\n",
      "No.46 student in No.4 session go to No.4 department\n",
      "No.47 student in No.1 session go to No.5 department\n",
      "No.47 student in No.2 session go to No.6 department\n",
      "No.47 student in No.3 session go to No.2 department\n",
      "No.47 student in No.4 session go to No.4 department\n",
      "No.48 student in No.1 session go to No.5 department\n",
      "No.48 student in No.2 session go to No.6 department\n",
      "No.48 student in No.3 session go to No.2 department\n",
      "No.48 student in No.4 session go to No.4 department\n",
      "No.49 student in No.1 session go to No.9 department\n",
      "No.49 student in No.2 session go to No.9 department\n",
      "No.49 student in No.3 session go to No.6 department\n",
      "No.49 student in No.4 session go to No.4 department\n",
      "No.50 student in No.1 session go to No.7 department\n",
      "No.50 student in No.2 session go to No.4 department\n",
      "No.50 student in No.3 session go to No.6 department\n",
      "No.50 student in No.4 session go to No.4 department\n"
     ]
    }
   ],
   "source": [
    "for d in Student:\n",
    "    for s in Session:\n",
    "        for p in Department:\n",
    "            if x[d,s,p].x > 0:\n",
    "                print(\"No.%s student in No.%s session go to No.%s department\"%(d,s,p))"
   ]
  },
  {
   "cell_type": "code",
   "execution_count": null,
   "metadata": {},
   "outputs": [],
   "source": []
  },
  {
   "cell_type": "code",
   "execution_count": null,
   "metadata": {},
   "outputs": [],
   "source": []
  }
 ],
 "metadata": {
  "kernelspec": {
   "display_name": "Python 3",
   "language": "python",
   "name": "python3"
  },
  "language_info": {
   "codemirror_mode": {
    "name": "ipython",
    "version": 3
   },
   "file_extension": ".py",
   "mimetype": "text/x-python",
   "name": "python",
   "nbconvert_exporter": "python",
   "pygments_lexer": "ipython3",
   "version": "3.8.5"
  }
 },
 "nbformat": 4,
 "nbformat_minor": 4
}
