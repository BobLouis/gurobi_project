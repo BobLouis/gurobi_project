{
 "cells": [
  {
   "cell_type": "markdown",
   "metadata": {},
   "source": [
    "<h2>import data from excel</h2>"
   ]
  },
  {
   "cell_type": "code",
   "execution_count": 1,
   "metadata": {},
   "outputs": [],
   "source": [
    "from gurobipy import*\n",
    "import math\n",
    "import pandas as pd\n",
    "import numpy as np\n",
    "import csv"
   ]
  },
  {
   "cell_type": "code",
   "execution_count": 2,
   "metadata": {},
   "outputs": [],
   "source": [
    "df={}\n",
    "Demand_num=20 #follow the input file\n",
    "Demand = list()\n",
    "Demand = list(range(1,Demand_num+1))\n",
    "df=pd.read_csv(\"./prj1_test_data/Car_Demand_\"+str(Demand_num)+\".csv\")\n",
    "Type_d={}\n",
    "Location_d={}\n",
    "Time={}\n",
    "Penalty={}\n",
    "for i in range(1,Demand_num+1):\n",
    "    Location_d[i] = list()\n",
    "    Time[i] = list()\n",
    "    Type_d[i]=df.iloc[i-1][\"type\"]\n",
    "    Location_d[i].append(df.iloc[i-1][\"Location_X\"])\n",
    "    Location_d[i].append(df.iloc[i-1][\"Location_Y\"])\n",
    "    Time[i].append(df.iloc[i-1][\"Time_H\"])\n",
    "    Time[i].append(df.iloc[i-1][\"Time_E\"])\n",
    "    Penalty[i]=df.iloc[i-1][\"Penalty\"]\n"
   ]
  },
  {
   "cell_type": "code",
   "execution_count": 3,
   "metadata": {},
   "outputs": [
    {
     "name": "stdout",
     "output_type": "stream",
     "text": [
      "[1, 2, 3, 4, 5, 6, 7, 8, 9, 10, 11, 12, 13, 14, 15, 16, 17, 18, 19, 20]\n",
      "\n",
      "{1: 2, 2: 2, 3: 1, 4: 3, 5: 1, 6: 3, 7: 3, 8: 3, 9: 2, 10: 2, 11: 2, 12: 2, 13: 2, 14: 1, 15: 1, 16: 3, 17: 2, 18: 3, 19: 3, 20: 1}\n",
      "\n",
      "{1: [35, 22], 2: [2, 48], 3: [39, 45], 4: [10, 25], 5: [43, 18], 6: [33, 17], 7: [45, 11], 8: [9, 3], 9: [43, 49], 10: [24, 32], 11: [23, 8], 12: [5, 36], 13: [12, 47], 14: [42, 19], 15: [40, 44], 16: [16, 10], 17: [29, 19], 18: [34, 18], 19: [3, 43], 20: [20, 35]}\n",
      "\n",
      "{1: [845, 995], 2: [508, 885], 3: [80, 780], 4: [735, 819], 5: [484, 555], 6: [89, 616], 7: [738, 958], 8: [394, 918], 9: [299, 553], 10: [297, 989], 11: [829, 948], 12: [378, 669], 13: [185, 725], 14: [583, 791], 15: [270, 552], 16: [331, 545], 17: [153, 754], 18: [672, 933], 19: [470, 617], 20: [549, 725]}\n",
      "\n",
      "{1: 312, 2: 212, 3: 199, 4: 94, 5: 476, 6: 362, 7: 209, 8: 211, 9: 442, 10: 278, 11: 113, 12: 248, 13: 287, 14: 394, 15: 152, 16: 233, 17: 282, 18: 387, 19: 223, 20: 237}\n"
     ]
    }
   ],
   "source": [
    "print(Demand)\n",
    "print()\n",
    "print(Type_d)\n",
    "print()\n",
    "print(Location_d)\n",
    "print()\n",
    "print(Time)\n",
    "print()\n",
    "print(Penalty)"
   ]
  },
  {
   "cell_type": "code",
   "execution_count": 4,
   "metadata": {},
   "outputs": [],
   "source": [
    "df2={}\n",
    "Supply_num=10\n",
    "Supply = list()\n",
    "Supply = list(range(1,Supply_num+1))\n",
    "df2=pd.read_csv(\"./prj1_test_data/Space_\"+str(Supply_num)+\".csv\")\n",
    "Type_s={}\n",
    "Location_s={}\n",
    "for i in range(1,Supply_num+1):\n",
    "    Location_s[i]=list()\n",
    "    Type_s[i]=df2.iloc[i-1][\"type\"]\n",
    "    Location_s[i].append(df2.iloc[i-1][\"Location_X\"])\n",
    "    Location_s[i].append(df2.iloc[i-1][\"Location_Y\"])"
   ]
  },
  {
   "cell_type": "code",
   "execution_count": 5,
   "metadata": {
    "scrolled": true
   },
   "outputs": [
    {
     "name": "stdout",
     "output_type": "stream",
     "text": [
      "[1, 2, 3, 4, 5, 6, 7, 8, 9, 10]\n",
      "{1: 3, 2: 1, 3: 3, 4: 3, 5: 2, 6: 1, 7: 3, 8: 2, 9: 3, 10: 3}\n",
      "{1: [43, 34], 2: [49, 22], 3: [45, 1], 4: [30, 17], 5: [37, 40], 6: [7, 17], 7: [5, 22], 8: [48, 26], 9: [12, 15], 10: [4, 8]}\n"
     ]
    }
   ],
   "source": [
    "print(Supply)\n",
    "print(Type_s)\n",
    "print(Location_s)"
   ]
  },
  {
   "cell_type": "code",
   "execution_count": 6,
   "metadata": {},
   "outputs": [],
   "source": [
    "def check_time_overlap(a,b):\n",
    "    if (a[0]<b[0]):\n",
    "        if (b[0]-a[0]) < (a[1] - a[0]):\n",
    "            return True\n",
    "        else:\n",
    "            return False\n",
    "    elif (a[0]>b[0]):\n",
    "        if (a[0]-b[0]) < (b[1] - b[0]):\n",
    "            return True\n",
    "        else:\n",
    "            return False\n",
    "    else :\n",
    "        return True\n",
    "        \n",
    "def distance(a,b):\n",
    "    return math.sqrt((a[0]-b[0])**2 + (a[1]-b[1])**2)\n"
   ]
  },
  {
   "cell_type": "code",
   "execution_count": 7,
   "metadata": {},
   "outputs": [
    {
     "name": "stdout",
     "output_type": "stream",
     "text": [
      "False\n",
      "29.154759474226502\n"
     ]
    }
   ],
   "source": [
    "print(check_time_overlap([100,150],[0,100]))\n",
    "# print(Time[1])\n",
    "print(distance([45,8],[30,33]))"
   ]
  },
  {
   "cell_type": "code",
   "execution_count": 8,
   "metadata": {
    "scrolled": true
   },
   "outputs": [
    {
     "name": "stdout",
     "output_type": "stream",
     "text": [
      "Academic license - for non-commercial use only - expires 2022-08-16\n",
      "Using license file /Users/kounuki/gurobi.lic\n"
     ]
    }
   ],
   "source": [
    "model = Model(\"Car_parking\")\n",
    "x={}\n",
    "y={}\n",
    "b={}"
   ]
  },
  {
   "cell_type": "markdown",
   "metadata": {},
   "source": [
    "<h2>init var</h2>"
   ]
  },
  {
   "cell_type": "code",
   "execution_count": 9,
   "metadata": {
    "scrolled": true
   },
   "outputs": [],
   "source": [
    "for d in Demand:\n",
    "    y[d] = model.addVar(vtype = \"B\",name = \"y(%s)\"%d)\n",
    "    for s in Supply:\n",
    "        x[d,s] = model.addVar(vtype=\"B\",name = \"x(%s,%s)\"%(d,s))\n",
    "        b[d,s] = model.addVar(lb = 0, vtype=\"C\", name = \"b(%s,%s)\"%(d,s))\n",
    "model.update()\n",
    "\n",
    "        "
   ]
  },
  {
   "cell_type": "code",
   "execution_count": 10,
   "metadata": {},
   "outputs": [
    {
     "name": "stdout",
     "output_type": "stream",
     "text": [
      "[1, 2, 3, 4, 5, 6, 7, 8, 9, 10, 11, 12, 13, 14, 15, 16, 17, 18, 19, 20]\n",
      "\n",
      "[1, 2, 3, 4, 5, 6, 7, 8, 9, 10]\n",
      "\n",
      "{1: 2, 2: 2, 3: 1, 4: 3, 5: 1, 6: 3, 7: 3, 8: 3, 9: 2, 10: 2, 11: 2, 12: 2, 13: 2, 14: 1, 15: 1, 16: 3, 17: 2, 18: 3, 19: 3, 20: 1}\n",
      "\n",
      "{1: 3, 2: 1, 3: 3, 4: 3, 5: 2, 6: 1, 7: 3, 8: 2, 9: 3, 10: 3}\n",
      "\n",
      "{(1, 1): <gurobi.Var x(1,1)>, (1, 2): <gurobi.Var x(1,2)>, (1, 3): <gurobi.Var x(1,3)>, (1, 4): <gurobi.Var x(1,4)>, (1, 5): <gurobi.Var x(1,5)>, (1, 6): <gurobi.Var x(1,6)>, (1, 7): <gurobi.Var x(1,7)>, (1, 8): <gurobi.Var x(1,8)>, (1, 9): <gurobi.Var x(1,9)>, (1, 10): <gurobi.Var x(1,10)>, (2, 1): <gurobi.Var x(2,1)>, (2, 2): <gurobi.Var x(2,2)>, (2, 3): <gurobi.Var x(2,3)>, (2, 4): <gurobi.Var x(2,4)>, (2, 5): <gurobi.Var x(2,5)>, (2, 6): <gurobi.Var x(2,6)>, (2, 7): <gurobi.Var x(2,7)>, (2, 8): <gurobi.Var x(2,8)>, (2, 9): <gurobi.Var x(2,9)>, (2, 10): <gurobi.Var x(2,10)>, (3, 1): <gurobi.Var x(3,1)>, (3, 2): <gurobi.Var x(3,2)>, (3, 3): <gurobi.Var x(3,3)>, (3, 4): <gurobi.Var x(3,4)>, (3, 5): <gurobi.Var x(3,5)>, (3, 6): <gurobi.Var x(3,6)>, (3, 7): <gurobi.Var x(3,7)>, (3, 8): <gurobi.Var x(3,8)>, (3, 9): <gurobi.Var x(3,9)>, (3, 10): <gurobi.Var x(3,10)>, (4, 1): <gurobi.Var x(4,1)>, (4, 2): <gurobi.Var x(4,2)>, (4, 3): <gurobi.Var x(4,3)>, (4, 4): <gurobi.Var x(4,4)>, (4, 5): <gurobi.Var x(4,5)>, (4, 6): <gurobi.Var x(4,6)>, (4, 7): <gurobi.Var x(4,7)>, (4, 8): <gurobi.Var x(4,8)>, (4, 9): <gurobi.Var x(4,9)>, (4, 10): <gurobi.Var x(4,10)>, (5, 1): <gurobi.Var x(5,1)>, (5, 2): <gurobi.Var x(5,2)>, (5, 3): <gurobi.Var x(5,3)>, (5, 4): <gurobi.Var x(5,4)>, (5, 5): <gurobi.Var x(5,5)>, (5, 6): <gurobi.Var x(5,6)>, (5, 7): <gurobi.Var x(5,7)>, (5, 8): <gurobi.Var x(5,8)>, (5, 9): <gurobi.Var x(5,9)>, (5, 10): <gurobi.Var x(5,10)>, (6, 1): <gurobi.Var x(6,1)>, (6, 2): <gurobi.Var x(6,2)>, (6, 3): <gurobi.Var x(6,3)>, (6, 4): <gurobi.Var x(6,4)>, (6, 5): <gurobi.Var x(6,5)>, (6, 6): <gurobi.Var x(6,6)>, (6, 7): <gurobi.Var x(6,7)>, (6, 8): <gurobi.Var x(6,8)>, (6, 9): <gurobi.Var x(6,9)>, (6, 10): <gurobi.Var x(6,10)>, (7, 1): <gurobi.Var x(7,1)>, (7, 2): <gurobi.Var x(7,2)>, (7, 3): <gurobi.Var x(7,3)>, (7, 4): <gurobi.Var x(7,4)>, (7, 5): <gurobi.Var x(7,5)>, (7, 6): <gurobi.Var x(7,6)>, (7, 7): <gurobi.Var x(7,7)>, (7, 8): <gurobi.Var x(7,8)>, (7, 9): <gurobi.Var x(7,9)>, (7, 10): <gurobi.Var x(7,10)>, (8, 1): <gurobi.Var x(8,1)>, (8, 2): <gurobi.Var x(8,2)>, (8, 3): <gurobi.Var x(8,3)>, (8, 4): <gurobi.Var x(8,4)>, (8, 5): <gurobi.Var x(8,5)>, (8, 6): <gurobi.Var x(8,6)>, (8, 7): <gurobi.Var x(8,7)>, (8, 8): <gurobi.Var x(8,8)>, (8, 9): <gurobi.Var x(8,9)>, (8, 10): <gurobi.Var x(8,10)>, (9, 1): <gurobi.Var x(9,1)>, (9, 2): <gurobi.Var x(9,2)>, (9, 3): <gurobi.Var x(9,3)>, (9, 4): <gurobi.Var x(9,4)>, (9, 5): <gurobi.Var x(9,5)>, (9, 6): <gurobi.Var x(9,6)>, (9, 7): <gurobi.Var x(9,7)>, (9, 8): <gurobi.Var x(9,8)>, (9, 9): <gurobi.Var x(9,9)>, (9, 10): <gurobi.Var x(9,10)>, (10, 1): <gurobi.Var x(10,1)>, (10, 2): <gurobi.Var x(10,2)>, (10, 3): <gurobi.Var x(10,3)>, (10, 4): <gurobi.Var x(10,4)>, (10, 5): <gurobi.Var x(10,5)>, (10, 6): <gurobi.Var x(10,6)>, (10, 7): <gurobi.Var x(10,7)>, (10, 8): <gurobi.Var x(10,8)>, (10, 9): <gurobi.Var x(10,9)>, (10, 10): <gurobi.Var x(10,10)>, (11, 1): <gurobi.Var x(11,1)>, (11, 2): <gurobi.Var x(11,2)>, (11, 3): <gurobi.Var x(11,3)>, (11, 4): <gurobi.Var x(11,4)>, (11, 5): <gurobi.Var x(11,5)>, (11, 6): <gurobi.Var x(11,6)>, (11, 7): <gurobi.Var x(11,7)>, (11, 8): <gurobi.Var x(11,8)>, (11, 9): <gurobi.Var x(11,9)>, (11, 10): <gurobi.Var x(11,10)>, (12, 1): <gurobi.Var x(12,1)>, (12, 2): <gurobi.Var x(12,2)>, (12, 3): <gurobi.Var x(12,3)>, (12, 4): <gurobi.Var x(12,4)>, (12, 5): <gurobi.Var x(12,5)>, (12, 6): <gurobi.Var x(12,6)>, (12, 7): <gurobi.Var x(12,7)>, (12, 8): <gurobi.Var x(12,8)>, (12, 9): <gurobi.Var x(12,9)>, (12, 10): <gurobi.Var x(12,10)>, (13, 1): <gurobi.Var x(13,1)>, (13, 2): <gurobi.Var x(13,2)>, (13, 3): <gurobi.Var x(13,3)>, (13, 4): <gurobi.Var x(13,4)>, (13, 5): <gurobi.Var x(13,5)>, (13, 6): <gurobi.Var x(13,6)>, (13, 7): <gurobi.Var x(13,7)>, (13, 8): <gurobi.Var x(13,8)>, (13, 9): <gurobi.Var x(13,9)>, (13, 10): <gurobi.Var x(13,10)>, (14, 1): <gurobi.Var x(14,1)>, (14, 2): <gurobi.Var x(14,2)>, (14, 3): <gurobi.Var x(14,3)>, (14, 4): <gurobi.Var x(14,4)>, (14, 5): <gurobi.Var x(14,5)>, (14, 6): <gurobi.Var x(14,6)>, (14, 7): <gurobi.Var x(14,7)>, (14, 8): <gurobi.Var x(14,8)>, (14, 9): <gurobi.Var x(14,9)>, (14, 10): <gurobi.Var x(14,10)>, (15, 1): <gurobi.Var x(15,1)>, (15, 2): <gurobi.Var x(15,2)>, (15, 3): <gurobi.Var x(15,3)>, (15, 4): <gurobi.Var x(15,4)>, (15, 5): <gurobi.Var x(15,5)>, (15, 6): <gurobi.Var x(15,6)>, (15, 7): <gurobi.Var x(15,7)>, (15, 8): <gurobi.Var x(15,8)>, (15, 9): <gurobi.Var x(15,9)>, (15, 10): <gurobi.Var x(15,10)>, (16, 1): <gurobi.Var x(16,1)>, (16, 2): <gurobi.Var x(16,2)>, (16, 3): <gurobi.Var x(16,3)>, (16, 4): <gurobi.Var x(16,4)>, (16, 5): <gurobi.Var x(16,5)>, (16, 6): <gurobi.Var x(16,6)>, (16, 7): <gurobi.Var x(16,7)>, (16, 8): <gurobi.Var x(16,8)>, (16, 9): <gurobi.Var x(16,9)>, (16, 10): <gurobi.Var x(16,10)>, (17, 1): <gurobi.Var x(17,1)>, (17, 2): <gurobi.Var x(17,2)>, (17, 3): <gurobi.Var x(17,3)>, (17, 4): <gurobi.Var x(17,4)>, (17, 5): <gurobi.Var x(17,5)>, (17, 6): <gurobi.Var x(17,6)>, (17, 7): <gurobi.Var x(17,7)>, (17, 8): <gurobi.Var x(17,8)>, (17, 9): <gurobi.Var x(17,9)>, (17, 10): <gurobi.Var x(17,10)>, (18, 1): <gurobi.Var x(18,1)>, (18, 2): <gurobi.Var x(18,2)>, (18, 3): <gurobi.Var x(18,3)>, (18, 4): <gurobi.Var x(18,4)>, (18, 5): <gurobi.Var x(18,5)>, (18, 6): <gurobi.Var x(18,6)>, (18, 7): <gurobi.Var x(18,7)>, (18, 8): <gurobi.Var x(18,8)>, (18, 9): <gurobi.Var x(18,9)>, (18, 10): <gurobi.Var x(18,10)>, (19, 1): <gurobi.Var x(19,1)>, (19, 2): <gurobi.Var x(19,2)>, (19, 3): <gurobi.Var x(19,3)>, (19, 4): <gurobi.Var x(19,4)>, (19, 5): <gurobi.Var x(19,5)>, (19, 6): <gurobi.Var x(19,6)>, (19, 7): <gurobi.Var x(19,7)>, (19, 8): <gurobi.Var x(19,8)>, (19, 9): <gurobi.Var x(19,9)>, (19, 10): <gurobi.Var x(19,10)>, (20, 1): <gurobi.Var x(20,1)>, (20, 2): <gurobi.Var x(20,2)>, (20, 3): <gurobi.Var x(20,3)>, (20, 4): <gurobi.Var x(20,4)>, (20, 5): <gurobi.Var x(20,5)>, (20, 6): <gurobi.Var x(20,6)>, (20, 7): <gurobi.Var x(20,7)>, (20, 8): <gurobi.Var x(20,8)>, (20, 9): <gurobi.Var x(20,9)>, (20, 10): <gurobi.Var x(20,10)>}\n",
      "\n",
      "{1: <gurobi.Var y(1)>, 2: <gurobi.Var y(2)>, 3: <gurobi.Var y(3)>, 4: <gurobi.Var y(4)>, 5: <gurobi.Var y(5)>, 6: <gurobi.Var y(6)>, 7: <gurobi.Var y(7)>, 8: <gurobi.Var y(8)>, 9: <gurobi.Var y(9)>, 10: <gurobi.Var y(10)>, 11: <gurobi.Var y(11)>, 12: <gurobi.Var y(12)>, 13: <gurobi.Var y(13)>, 14: <gurobi.Var y(14)>, 15: <gurobi.Var y(15)>, 16: <gurobi.Var y(16)>, 17: <gurobi.Var y(17)>, 18: <gurobi.Var y(18)>, 19: <gurobi.Var y(19)>, 20: <gurobi.Var y(20)>}\n",
      "\n",
      "{(1, 1): <gurobi.Var b(1,1)>, (1, 2): <gurobi.Var b(1,2)>, (1, 3): <gurobi.Var b(1,3)>, (1, 4): <gurobi.Var b(1,4)>, (1, 5): <gurobi.Var b(1,5)>, (1, 6): <gurobi.Var b(1,6)>, (1, 7): <gurobi.Var b(1,7)>, (1, 8): <gurobi.Var b(1,8)>, (1, 9): <gurobi.Var b(1,9)>, (1, 10): <gurobi.Var b(1,10)>, (2, 1): <gurobi.Var b(2,1)>, (2, 2): <gurobi.Var b(2,2)>, (2, 3): <gurobi.Var b(2,3)>, (2, 4): <gurobi.Var b(2,4)>, (2, 5): <gurobi.Var b(2,5)>, (2, 6): <gurobi.Var b(2,6)>, (2, 7): <gurobi.Var b(2,7)>, (2, 8): <gurobi.Var b(2,8)>, (2, 9): <gurobi.Var b(2,9)>, (2, 10): <gurobi.Var b(2,10)>, (3, 1): <gurobi.Var b(3,1)>, (3, 2): <gurobi.Var b(3,2)>, (3, 3): <gurobi.Var b(3,3)>, (3, 4): <gurobi.Var b(3,4)>, (3, 5): <gurobi.Var b(3,5)>, (3, 6): <gurobi.Var b(3,6)>, (3, 7): <gurobi.Var b(3,7)>, (3, 8): <gurobi.Var b(3,8)>, (3, 9): <gurobi.Var b(3,9)>, (3, 10): <gurobi.Var b(3,10)>, (4, 1): <gurobi.Var b(4,1)>, (4, 2): <gurobi.Var b(4,2)>, (4, 3): <gurobi.Var b(4,3)>, (4, 4): <gurobi.Var b(4,4)>, (4, 5): <gurobi.Var b(4,5)>, (4, 6): <gurobi.Var b(4,6)>, (4, 7): <gurobi.Var b(4,7)>, (4, 8): <gurobi.Var b(4,8)>, (4, 9): <gurobi.Var b(4,9)>, (4, 10): <gurobi.Var b(4,10)>, (5, 1): <gurobi.Var b(5,1)>, (5, 2): <gurobi.Var b(5,2)>, (5, 3): <gurobi.Var b(5,3)>, (5, 4): <gurobi.Var b(5,4)>, (5, 5): <gurobi.Var b(5,5)>, (5, 6): <gurobi.Var b(5,6)>, (5, 7): <gurobi.Var b(5,7)>, (5, 8): <gurobi.Var b(5,8)>, (5, 9): <gurobi.Var b(5,9)>, (5, 10): <gurobi.Var b(5,10)>, (6, 1): <gurobi.Var b(6,1)>, (6, 2): <gurobi.Var b(6,2)>, (6, 3): <gurobi.Var b(6,3)>, (6, 4): <gurobi.Var b(6,4)>, (6, 5): <gurobi.Var b(6,5)>, (6, 6): <gurobi.Var b(6,6)>, (6, 7): <gurobi.Var b(6,7)>, (6, 8): <gurobi.Var b(6,8)>, (6, 9): <gurobi.Var b(6,9)>, (6, 10): <gurobi.Var b(6,10)>, (7, 1): <gurobi.Var b(7,1)>, (7, 2): <gurobi.Var b(7,2)>, (7, 3): <gurobi.Var b(7,3)>, (7, 4): <gurobi.Var b(7,4)>, (7, 5): <gurobi.Var b(7,5)>, (7, 6): <gurobi.Var b(7,6)>, (7, 7): <gurobi.Var b(7,7)>, (7, 8): <gurobi.Var b(7,8)>, (7, 9): <gurobi.Var b(7,9)>, (7, 10): <gurobi.Var b(7,10)>, (8, 1): <gurobi.Var b(8,1)>, (8, 2): <gurobi.Var b(8,2)>, (8, 3): <gurobi.Var b(8,3)>, (8, 4): <gurobi.Var b(8,4)>, (8, 5): <gurobi.Var b(8,5)>, (8, 6): <gurobi.Var b(8,6)>, (8, 7): <gurobi.Var b(8,7)>, (8, 8): <gurobi.Var b(8,8)>, (8, 9): <gurobi.Var b(8,9)>, (8, 10): <gurobi.Var b(8,10)>, (9, 1): <gurobi.Var b(9,1)>, (9, 2): <gurobi.Var b(9,2)>, (9, 3): <gurobi.Var b(9,3)>, (9, 4): <gurobi.Var b(9,4)>, (9, 5): <gurobi.Var b(9,5)>, (9, 6): <gurobi.Var b(9,6)>, (9, 7): <gurobi.Var b(9,7)>, (9, 8): <gurobi.Var b(9,8)>, (9, 9): <gurobi.Var b(9,9)>, (9, 10): <gurobi.Var b(9,10)>, (10, 1): <gurobi.Var b(10,1)>, (10, 2): <gurobi.Var b(10,2)>, (10, 3): <gurobi.Var b(10,3)>, (10, 4): <gurobi.Var b(10,4)>, (10, 5): <gurobi.Var b(10,5)>, (10, 6): <gurobi.Var b(10,6)>, (10, 7): <gurobi.Var b(10,7)>, (10, 8): <gurobi.Var b(10,8)>, (10, 9): <gurobi.Var b(10,9)>, (10, 10): <gurobi.Var b(10,10)>, (11, 1): <gurobi.Var b(11,1)>, (11, 2): <gurobi.Var b(11,2)>, (11, 3): <gurobi.Var b(11,3)>, (11, 4): <gurobi.Var b(11,4)>, (11, 5): <gurobi.Var b(11,5)>, (11, 6): <gurobi.Var b(11,6)>, (11, 7): <gurobi.Var b(11,7)>, (11, 8): <gurobi.Var b(11,8)>, (11, 9): <gurobi.Var b(11,9)>, (11, 10): <gurobi.Var b(11,10)>, (12, 1): <gurobi.Var b(12,1)>, (12, 2): <gurobi.Var b(12,2)>, (12, 3): <gurobi.Var b(12,3)>, (12, 4): <gurobi.Var b(12,4)>, (12, 5): <gurobi.Var b(12,5)>, (12, 6): <gurobi.Var b(12,6)>, (12, 7): <gurobi.Var b(12,7)>, (12, 8): <gurobi.Var b(12,8)>, (12, 9): <gurobi.Var b(12,9)>, (12, 10): <gurobi.Var b(12,10)>, (13, 1): <gurobi.Var b(13,1)>, (13, 2): <gurobi.Var b(13,2)>, (13, 3): <gurobi.Var b(13,3)>, (13, 4): <gurobi.Var b(13,4)>, (13, 5): <gurobi.Var b(13,5)>, (13, 6): <gurobi.Var b(13,6)>, (13, 7): <gurobi.Var b(13,7)>, (13, 8): <gurobi.Var b(13,8)>, (13, 9): <gurobi.Var b(13,9)>, (13, 10): <gurobi.Var b(13,10)>, (14, 1): <gurobi.Var b(14,1)>, (14, 2): <gurobi.Var b(14,2)>, (14, 3): <gurobi.Var b(14,3)>, (14, 4): <gurobi.Var b(14,4)>, (14, 5): <gurobi.Var b(14,5)>, (14, 6): <gurobi.Var b(14,6)>, (14, 7): <gurobi.Var b(14,7)>, (14, 8): <gurobi.Var b(14,8)>, (14, 9): <gurobi.Var b(14,9)>, (14, 10): <gurobi.Var b(14,10)>, (15, 1): <gurobi.Var b(15,1)>, (15, 2): <gurobi.Var b(15,2)>, (15, 3): <gurobi.Var b(15,3)>, (15, 4): <gurobi.Var b(15,4)>, (15, 5): <gurobi.Var b(15,5)>, (15, 6): <gurobi.Var b(15,6)>, (15, 7): <gurobi.Var b(15,7)>, (15, 8): <gurobi.Var b(15,8)>, (15, 9): <gurobi.Var b(15,9)>, (15, 10): <gurobi.Var b(15,10)>, (16, 1): <gurobi.Var b(16,1)>, (16, 2): <gurobi.Var b(16,2)>, (16, 3): <gurobi.Var b(16,3)>, (16, 4): <gurobi.Var b(16,4)>, (16, 5): <gurobi.Var b(16,5)>, (16, 6): <gurobi.Var b(16,6)>, (16, 7): <gurobi.Var b(16,7)>, (16, 8): <gurobi.Var b(16,8)>, (16, 9): <gurobi.Var b(16,9)>, (16, 10): <gurobi.Var b(16,10)>, (17, 1): <gurobi.Var b(17,1)>, (17, 2): <gurobi.Var b(17,2)>, (17, 3): <gurobi.Var b(17,3)>, (17, 4): <gurobi.Var b(17,4)>, (17, 5): <gurobi.Var b(17,5)>, (17, 6): <gurobi.Var b(17,6)>, (17, 7): <gurobi.Var b(17,7)>, (17, 8): <gurobi.Var b(17,8)>, (17, 9): <gurobi.Var b(17,9)>, (17, 10): <gurobi.Var b(17,10)>, (18, 1): <gurobi.Var b(18,1)>, (18, 2): <gurobi.Var b(18,2)>, (18, 3): <gurobi.Var b(18,3)>, (18, 4): <gurobi.Var b(18,4)>, (18, 5): <gurobi.Var b(18,5)>, (18, 6): <gurobi.Var b(18,6)>, (18, 7): <gurobi.Var b(18,7)>, (18, 8): <gurobi.Var b(18,8)>, (18, 9): <gurobi.Var b(18,9)>, (18, 10): <gurobi.Var b(18,10)>, (19, 1): <gurobi.Var b(19,1)>, (19, 2): <gurobi.Var b(19,2)>, (19, 3): <gurobi.Var b(19,3)>, (19, 4): <gurobi.Var b(19,4)>, (19, 5): <gurobi.Var b(19,5)>, (19, 6): <gurobi.Var b(19,6)>, (19, 7): <gurobi.Var b(19,7)>, (19, 8): <gurobi.Var b(19,8)>, (19, 9): <gurobi.Var b(19,9)>, (19, 10): <gurobi.Var b(19,10)>, (20, 1): <gurobi.Var b(20,1)>, (20, 2): <gurobi.Var b(20,2)>, (20, 3): <gurobi.Var b(20,3)>, (20, 4): <gurobi.Var b(20,4)>, (20, 5): <gurobi.Var b(20,5)>, (20, 6): <gurobi.Var b(20,6)>, (20, 7): <gurobi.Var b(20,7)>, (20, 8): <gurobi.Var b(20,8)>, (20, 9): <gurobi.Var b(20,9)>, (20, 10): <gurobi.Var b(20,10)>}\n"
     ]
    }
   ],
   "source": [
    "print(Demand)\n",
    "print()\n",
    "print(Supply)\n",
    "print()\n",
    "print(Type_d)\n",
    "print()\n",
    "print(Type_s)\n",
    "print()\n",
    "print(x)\n",
    "print()\n",
    "print(y)\n",
    "print()\n",
    "print(b)"
   ]
  },
  {
   "cell_type": "markdown",
   "metadata": {},
   "source": [
    "<h1>add constraint</h1>\n",
    "<h2>time constraint</h2>\n",
    "<br>\n",
    "<h3>one demand correspond to one supply</h3>\n",
    "<h3>But a supply can correspond to several demand</h3>\n",
    "<p>quicksum(x[d,s] for s in Supply) = 1 for d in Demand</p>\n",
    "<br>\n",
    "<h3>Type constraint</h3>\n",
    "   "
   ]
  },
  {
   "cell_type": "code",
   "execution_count": 11,
   "metadata": {},
   "outputs": [],
   "source": [
    "R=20\n",
    "#demand constraint one car can at most park in one lot\n",
    "for d in Demand:\n",
    "    model.addConstr(quicksum(x[d,s] for s in Supply) <= 1,name = \"Demand constraint\")\n",
    "    \n",
    "#time constraint\n",
    "for i in Demand:\n",
    "    for j in range(i+1,Demand_num+1):\n",
    "        if check_time_overlap(Time[i],Time[j]) == True:\n",
    "            for s in Supply:\n",
    "                model.addConstr((x[i,s]+x[j,s]) <= 1, name = \"Time overlap constraint\" ) \n",
    "                \n",
    "#type constraint\n",
    "for d in Demand:\n",
    "    for s in Supply:\n",
    "        if Type_d[d] > Type_s[s]:\n",
    "            model.addConstr(x[d,s] == 0, name = \"Type constraint\")\n",
    "            \n",
    "#distance constriant \n",
    "for d in Demand:\n",
    "    for s in Supply:\n",
    "        if distance(Location_d[d],Location_s[s]) > 20:\n",
    "            model.addConstr(x[d,s] == 0, name = \"distance constraint\")\n",
    "\n",
    "\n",
    "#penalty contraint sum(x[d,s] for Supply)+y ==1\n",
    "for d in Demand:\n",
    "    model.addConstr(quicksum(x[d,s] for s in Supply) + y[d] == 1, name = \"penalty constraint\")\n",
    "\n",
    "#benefit constraint b[d,s] = r=math.sqrt((Location_d[d][0]-Location_s[s][0])**2+(Location_d[d][1]-Location_s[s][1])**2)\n",
    "for d in Demand:\n",
    "    for s in Supply:\n",
    "        radius = distance(Location_d[d],Location_s[s])\n",
    "        model.addConstr(b[d,s] == (Penalty[d]/radius), name = \"benefit define\")\n"
   ]
  },
  {
   "cell_type": "code",
   "execution_count": 12,
   "metadata": {},
   "outputs": [],
   "source": [
    "\n",
    "model.setObjective(quicksum(b[d,s]*x[d,s] for (d,s) in x)-quicksum(Penalty[d]*y[d] for d in Demand),GRB.MAXIMIZE)"
   ]
  },
  {
   "cell_type": "code",
   "execution_count": 13,
   "metadata": {},
   "outputs": [
    {
     "name": "stdout",
     "output_type": "stream",
     "text": [
      "Gurobi Optimizer version 9.1.2 build v9.1.2rc0 (mac64)\n",
      "Thread count: 4 physical cores, 8 logical processors, using up to 8 threads\n",
      "Optimize a model with 1763 rows, 420 columns and 3483 nonzeros\n",
      "Model fingerprint: 0xf73c78fa\n",
      "Model has 200 quadratic objective terms\n",
      "Variable types: 200 continuous, 220 integer (220 binary)\n",
      "Coefficient statistics:\n",
      "  Matrix range     [1e+00, 1e+00]\n",
      "  Objective range  [9e+01, 5e+02]\n",
      "  QObjective range [2e+00, 2e+00]\n",
      "  Bounds range     [1e+00, 1e+00]\n",
      "  RHS range        [1e+00, 1e+02]\n",
      "Found heuristic solution: objective -5351.000000\n",
      "Presolve removed 1740 rows and 393 columns\n",
      "Presolve time: 0.01s\n",
      "Presolved: 23 rows, 27 columns, 62 nonzeros\n",
      "Found heuristic solution: objective -3127.294981\n",
      "Variable types: 0 continuous, 27 integer (27 binary)\n",
      "\n",
      "Root relaxation: objective -5.808639e+02, 15 iterations, 0.00 seconds\n",
      "\n",
      "    Nodes    |    Current Node    |     Objective Bounds      |     Work\n",
      " Expl Unexpl |  Obj  Depth IntInf | Incumbent    BestBd   Gap | It/Node Time\n",
      "\n",
      "*    0     0               0    -580.8638605 -580.86386  0.00%     -    0s\n",
      "\n",
      "Explored 0 nodes (15 simplex iterations) in 0.04 seconds\n",
      "Thread count was 8 (of 8 available processors)\n",
      "\n",
      "Solution count 3: -580.864 -3127.29 -5351 \n",
      "No other solutions better than -580.864\n",
      "\n",
      "Optimal solution found (tolerance 1.00e-04)\n",
      "Best objective -5.808638604642e+02, best bound -5.808638604642e+02, gap 0.0000%\n",
      "optimize -580.8638604642132\n"
     ]
    }
   ],
   "source": [
    "model.optimize()\n",
    "print(\"optimize\",model.objVal)"
   ]
  },
  {
   "cell_type": "code",
   "execution_count": 14,
   "metadata": {},
   "outputs": [
    {
     "name": "stdout",
     "output_type": "stream",
     "text": [
      "car 1 park in space 8: 1.0\n",
      "car 3 park in space 5: 1.0\n",
      "car 4 park in space 7: 1.0\n",
      "car 5 park in space 2: 1.0\n",
      "car 6 park in space 3: 1.0\n",
      "car 7 park in space 3: 1.0\n",
      "car 8 park in space 10: 1.0\n",
      "car 9 park in space 1: 1.0\n",
      "car 10 park in space 4: 1.0\n",
      "car 11 park in space 9: 1.0\n",
      "car 14 park in space 2: 1.0\n",
      "car 15 park in space 8: 1.0\n",
      "car 16 park in space 7: 1.0\n",
      "car 17 park in space 9: 1.0\n",
      "car 18 park in space 1: 1.0\n",
      "car 20 park in space 7: 1.0\n"
     ]
    }
   ],
   "source": [
    "\n",
    "for d in Demand:\n",
    "    for s in Supply:\n",
    "        if x[d,s].X > 0:\n",
    "            print(\"car %s park in space %s: %s\"%(d,s,x[d,s].X))"
   ]
  },
  {
   "cell_type": "code",
   "execution_count": 45,
   "metadata": {},
   "outputs": [],
   "source": [
    "def show_demand(a):\n",
    "    for i in a:\n",
    "        print(Type_d[i], Location_d[i], Time[i], Penalty[i])\n"
   ]
  },
  {
   "cell_type": "code",
   "execution_count": 47,
   "metadata": {},
   "outputs": [
    {
     "name": "stdout",
     "output_type": "stream",
     "text": [
      "2 [35, 22] [845, 995] 312\n",
      "1 [43, 18] [484, 555] 476\n",
      "1 [42, 19] [583, 791] 394\n"
     ]
    }
   ],
   "source": [
    "show_demand([1,5,14])"
   ]
  },
  {
   "cell_type": "code",
   "execution_count": 44,
   "metadata": {},
   "outputs": [
    {
     "name": "stdout",
     "output_type": "stream",
     "text": [
      "﻿type,Location_X,Location_Y\r",
      "\r\n",
      "1,30,33\r",
      "\r\n"
     ]
    }
   ],
   "source": [
    "!cat prj1_test_data/Space_1.csv"
   ]
  },
  {
   "cell_type": "code",
   "execution_count": 41,
   "metadata": {},
   "outputs": [
    {
     "name": "stdout",
     "output_type": "stream",
     "text": [
      "Car_Demand_10.csv   Car_Demand_20.csv   Space_1.csv         answer_2.docx\r\n",
      "Car_Demand_100.csv  Car_Demand_200.csv  Space_10.csv        ~$swer_2.docx\r\n",
      "Car_Demand_1000.csv Car_Demand_5.csv    Space_200.csv\r\n"
     ]
    }
   ],
   "source": [
    "!ls prj1_test_data"
   ]
  },
  {
   "cell_type": "code",
   "execution_count": null,
   "metadata": {},
   "outputs": [],
   "source": []
  }
 ],
 "metadata": {
  "kernelspec": {
   "display_name": "Python 3",
   "language": "python",
   "name": "python3"
  },
  "language_info": {
   "codemirror_mode": {
    "name": "ipython",
    "version": 3
   },
   "file_extension": ".py",
   "mimetype": "text/x-python",
   "name": "python",
   "nbconvert_exporter": "python",
   "pygments_lexer": "ipython3",
   "version": "3.8.5"
  }
 },
 "nbformat": 4,
 "nbformat_minor": 4
}
