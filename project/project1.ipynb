{
 "cells": [
  {
   "cell_type": "markdown",
   "metadata": {},
   "source": [
    "<h2>import data from excel</h2>"
   ]
  },
  {
   "cell_type": "code",
   "execution_count": 15,
   "metadata": {},
   "outputs": [],
   "source": [
    "from gurobipy import*\n",
    "import math\n",
    "import pandas as pd\n",
    "import numpy as np\n",
    "import csv"
   ]
  },
  {
   "cell_type": "code",
   "execution_count": 33,
   "metadata": {},
   "outputs": [],
   "source": [
    "df={}\n",
    "Demand_num=100 #follow the input file\n",
    "Demand = list()\n",
    "Demand = list(range(1,Demand_num+1))\n",
    "df=pd.read_csv(\"./prj1_test_data/Car_Demand_\"+str(Demand_num)+\".csv\")\n",
    "Type_d={}\n",
    "Location_d={}\n",
    "Time={}\n",
    "Penalty={}\n",
    "for i in range(1,Demand_num+1):\n",
    "    Location_d[i] = list()\n",
    "    Time[i] = list()\n",
    "    Type_d[i]=df.iloc[i-1][\"type\"]\n",
    "    Location_d[i].append(df.iloc[i-1][\"Location_X\"])\n",
    "    Location_d[i].append(df.iloc[i-1][\"Location_Y\"])\n",
    "    Time[i].append(df.iloc[i-1][\"Time_H\"])\n",
    "    Time[i].append(df.iloc[i-1][\"Time_E\"])\n",
    "    Penalty[i]=df.iloc[i-1][\"Penalty\"]\n"
   ]
  },
  {
   "cell_type": "code",
   "execution_count": 34,
   "metadata": {},
   "outputs": [],
   "source": [
    "# print(Demand)\n",
    "# print()\n",
    "# print(Type_d)\n",
    "# print()\n",
    "# print(Location_d)\n",
    "# print()\n",
    "# print(Time)\n",
    "# print()\n",
    "# print(Penalty)"
   ]
  },
  {
   "cell_type": "code",
   "execution_count": 35,
   "metadata": {},
   "outputs": [],
   "source": [
    "df2={}\n",
    "Supply_num=200\n",
    "Supply = list()\n",
    "Supply = list(range(1,Supply_num+1))\n",
    "df2=pd.read_csv(\"./prj1_test_data/Space_\"+str(Supply_num)+\".csv\")\n",
    "Type_s={}\n",
    "Location_s={}\n",
    "for i in range(1,Supply_num+1):\n",
    "    Location_s[i]=list()\n",
    "    Type_s[i]=df2.iloc[i-1][\"type\"]\n",
    "    Location_s[i].append(df2.iloc[i-1][\"Location_X\"])\n",
    "    Location_s[i].append(df2.iloc[i-1][\"Location_Y\"])"
   ]
  },
  {
   "cell_type": "code",
   "execution_count": 36,
   "metadata": {
    "scrolled": true
   },
   "outputs": [],
   "source": [
    "# print(Supply)\n",
    "# print(Type_s)\n",
    "# print(Location_s)"
   ]
  },
  {
   "cell_type": "code",
   "execution_count": 37,
   "metadata": {},
   "outputs": [],
   "source": [
    "def check_time_overlap(a,b):\n",
    "    if (a[0]<b[0]):\n",
    "        if (b[0]-a[0]) < (a[1] - a[0]):\n",
    "            return True\n",
    "        else:\n",
    "            return False\n",
    "    elif (a[0]>b[0]):\n",
    "        if (a[0]-b[0]) < (b[1] - b[0]):\n",
    "            return True\n",
    "        else:\n",
    "            return False\n",
    "    else :\n",
    "        return True\n",
    "        \n",
    "def distance(a,b):\n",
    "    return math.sqrt((a[0]-b[0])**2 + (a[1]-b[1])**2)\n"
   ]
  },
  {
   "cell_type": "code",
   "execution_count": 39,
   "metadata": {},
   "outputs": [],
   "source": [
    "# print(check_time_overlap([100,150],[0,100]))\n",
    "# print(distance([45,8],[30,33]))"
   ]
  },
  {
   "cell_type": "code",
   "execution_count": 40,
   "metadata": {
    "scrolled": true
   },
   "outputs": [],
   "source": [
    "model = Model(\"Car_parking\")\n",
    "x={}\n",
    "y={}\n",
    "b={}"
   ]
  },
  {
   "cell_type": "markdown",
   "metadata": {},
   "source": [
    "<h2>init var</h2>"
   ]
  },
  {
   "cell_type": "code",
   "execution_count": 41,
   "metadata": {
    "scrolled": true
   },
   "outputs": [],
   "source": [
    "for d in Demand:\n",
    "    y[d] = model.addVar(vtype = \"B\",name = \"y(%s)\"%d)\n",
    "    for s in Supply:\n",
    "        x[d,s] = model.addVar(vtype=\"B\",name = \"x(%s,%s)\"%(d,s))\n",
    "        b[d,s] = model.addVar(lb = 0, vtype=\"C\", name = \"b(%s,%s)\"%(d,s))\n",
    "model.update()"
   ]
  },
  {
   "cell_type": "code",
   "execution_count": 42,
   "metadata": {},
   "outputs": [],
   "source": [
    "# print(Demand)\n",
    "# print()\n",
    "# print(Supply)\n",
    "# print()\n",
    "# print(Type_d)\n",
    "# print()\n",
    "# print(Type_s)\n",
    "# print()\n",
    "# print(x)\n",
    "# print()\n",
    "# print(y)\n",
    "# print()\n",
    "# print(b)"
   ]
  },
  {
   "cell_type": "markdown",
   "metadata": {},
   "source": [
    "<h1>add constraint</h1>\n",
    "<h2>time constraint</h2>\n",
    "<br>\n",
    "<h3>one demand correspond to one supply</h3>\n",
    "<h3>But a supply can correspond to several demand</h3>\n",
    "<p>quicksum(x[d,s] for s in Supply) = 1 for d in Demand</p>\n",
    "<br>\n",
    "<h3>Type constraint</h3>\n",
    "   "
   ]
  },
  {
   "cell_type": "code",
   "execution_count": 43,
   "metadata": {},
   "outputs": [],
   "source": [
    "R=20\n",
    "#demand constraint one car can at most park in one lot\n",
    "for d in Demand:\n",
    "    model.addConstr(quicksum(x[d,s] for s in Supply) <= 1,name = \"Demand constraint\")\n",
    "    \n",
    "#time constraint\n",
    "for i in Demand:\n",
    "    for j in range(i+1,Demand_num+1):\n",
    "        if check_time_overlap(Time[i],Time[j]) == True:\n",
    "            for s in Supply:\n",
    "                model.addConstr((x[i,s]+x[j,s]) <= 1, name = \"Time overlap constraint\" ) \n",
    "                \n",
    "#type constraint\n",
    "for d in Demand:\n",
    "    for s in Supply:\n",
    "        if Type_d[d] > Type_s[s]:\n",
    "            model.addConstr(x[d,s] == 0, name = \"Type constraint\")\n",
    "            \n",
    "#distance constriant \n",
    "for d in Demand:\n",
    "    for s in Supply:\n",
    "        if distance(Location_d[d],Location_s[s]) > 20:\n",
    "            model.addConstr(x[d,s] == 0, name = \"distance constraint\")\n",
    "\n",
    "\n",
    "#penalty contraint sum(x[d,s] for Supply)+y ==1\n",
    "for d in Demand:\n",
    "    model.addConstr(quicksum(x[d,s] for s in Supply) + y[d] == 1, name = \"penalty constraint\")\n",
    "\n",
    "#benefit constraint b[d,s] = r=math.sqrt((Location_d[d][0]-Location_s[s][0])**2+(Location_d[d][1]-Location_s[s][1])**2)\n",
    "for d in Demand:\n",
    "    for s in Supply:\n",
    "        radius = distance(Location_d[d],Location_s[s])\n",
    "        model.addConstr(b[d,s] == (Penalty[d]/radius), name = \"benefit define\")\n"
   ]
  },
  {
   "cell_type": "code",
   "execution_count": 44,
   "metadata": {},
   "outputs": [],
   "source": [
    "\n",
    "model.setObjective(quicksum(b[d,s]*x[d,s] for (d,s) in x)-quicksum(Penalty[d]*y[d] for d in Demand),GRB.MAXIMIZE)"
   ]
  },
  {
   "cell_type": "code",
   "execution_count": 45,
   "metadata": {},
   "outputs": [
    {
     "name": "stdout",
     "output_type": "stream",
     "text": [
      "Gurobi Optimizer version 9.1.2 build v9.1.2rc0 (mac64)\n",
      "Thread count: 4 physical cores, 8 logical processors, using up to 8 threads\n",
      "Optimize a model with 765071 rows, 40100 columns and 1529571 nonzeros\n",
      "Model fingerprint: 0x7a17c203\n",
      "Model has 20000 quadratic objective terms\n",
      "Variable types: 20000 continuous, 20100 integer (20100 binary)\n",
      "Coefficient statistics:\n",
      "  Matrix range     [1e+00, 1e+00]\n",
      "  Objective range  [6e+01, 5e+02]\n",
      "  QObjective range [2e+00, 2e+00]\n",
      "  Bounds range     [1e+00, 1e+00]\n",
      "  RHS range        [9e-01, 4e+02]\n",
      "Found heuristic solution: objective -27714.00000\n",
      "Presolve removed 763637 rows and 35564 columns\n",
      "Presolve time: 0.90s\n",
      "Presolved: 1434 rows, 4536 columns, 23502 nonzeros\n",
      "Variable types: 0 continuous, 4536 integer (4536 binary)\n",
      "\n",
      "Root relaxation: objective 1.314445e+04, 816 iterations, 0.01 seconds\n",
      "\n",
      "    Nodes    |    Current Node    |     Objective Bounds      |     Work\n",
      " Expl Unexpl |  Obj  Depth IntInf | Incumbent    BestBd   Gap | It/Node Time\n",
      "\n",
      "*    0     0               0    13144.449735 13144.4497  0.00%     -    1s\n",
      "\n",
      "Explored 0 nodes (816 simplex iterations) in 1.11 seconds\n",
      "Thread count was 8 (of 8 available processors)\n",
      "\n",
      "Solution count 2: 13144.4 -27714 \n",
      "\n",
      "Optimal solution found (tolerance 1.00e-04)\n",
      "Best objective 1.314444973506e+04, best bound 1.314444973506e+04, gap 0.0000%\n",
      "optimize 13144.449735061326\n"
     ]
    }
   ],
   "source": [
    "model.optimize()\n",
    "print(\"optimize\",model.objVal)"
   ]
  },
  {
   "cell_type": "code",
   "execution_count": 46,
   "metadata": {},
   "outputs": [
    {
     "name": "stdout",
     "output_type": "stream",
     "text": [
      "car 1 park in space 162: 1.0\n",
      "car 2 park in space 108: 1.0\n",
      "car 3 park in space 60: 1.0\n",
      "car 4 park in space 102: 1.0\n",
      "car 5 park in space 93: 1.0\n",
      "car 6 park in space 130: 1.0\n",
      "car 7 park in space 170: 1.0\n",
      "car 8 park in space 66: 1.0\n",
      "car 9 park in space 135: 1.0\n",
      "car 10 park in space 110: 1.0\n",
      "car 11 park in space 28: 1.0\n",
      "car 12 park in space 84: 1.0\n",
      "car 13 park in space 133: 1.0\n",
      "car 14 park in space 124: 1.0\n",
      "car 15 park in space 96: 1.0\n",
      "car 16 park in space 78: 1.0\n",
      "car 17 park in space 177: 1.0\n",
      "car 18 park in space 33: 1.0\n",
      "car 19 park in space 160: 1.0\n",
      "car 20 park in space 183: 1.0\n",
      "car 21 park in space 38: 1.0\n",
      "car 22 park in space 158: 1.0\n",
      "car 23 park in space 2: 1.0\n",
      "car 24 park in space 122: 1.0\n",
      "car 25 park in space 40: 1.0\n",
      "car 26 park in space 196: 1.0\n",
      "car 27 park in space 161: 1.0\n",
      "car 28 park in space 31: 1.0\n",
      "car 29 park in space 52: 1.0\n",
      "car 30 park in space 106: 1.0\n",
      "car 31 park in space 65: 1.0\n",
      "car 32 park in space 39: 1.0\n",
      "car 33 park in space 149: 1.0\n",
      "car 34 park in space 99: 1.0\n",
      "car 35 park in space 19: 1.0\n",
      "car 36 park in space 141: 1.0\n",
      "car 37 park in space 179: 1.0\n",
      "car 38 park in space 175: 1.0\n",
      "car 39 park in space 86: 1.0\n",
      "car 40 park in space 75: 1.0\n",
      "car 41 park in space 12: 1.0\n",
      "car 42 park in space 91: 1.0\n",
      "car 43 park in space 21: 1.0\n",
      "car 44 park in space 87: 1.0\n",
      "car 45 park in space 3: 1.0\n",
      "car 46 park in space 118: 1.0\n",
      "car 47 park in space 134: 1.0\n",
      "car 48 park in space 171: 1.0\n",
      "car 49 park in space 10: 1.0\n",
      "car 50 park in space 111: 1.0\n",
      "car 51 park in space 147: 1.0\n",
      "car 52 park in space 6: 1.0\n",
      "car 53 park in space 76: 1.0\n",
      "car 54 park in space 80: 1.0\n",
      "car 55 park in space 186: 1.0\n",
      "car 56 park in space 64: 1.0\n",
      "car 57 park in space 34: 1.0\n",
      "car 58 park in space 143: 1.0\n",
      "car 59 park in space 24: 1.0\n",
      "car 60 park in space 159: 1.0\n",
      "car 61 park in space 142: 1.0\n",
      "car 62 park in space 184: 1.0\n",
      "car 63 park in space 21: 1.0\n",
      "car 64 park in space 181: 1.0\n",
      "car 65 park in space 89: 1.0\n",
      "car 66 park in space 134: 1.0\n",
      "car 67 park in space 80: 1.0\n",
      "car 68 park in space 8: 1.0\n",
      "car 69 park in space 47: 1.0\n",
      "car 70 park in space 136: 1.0\n",
      "car 71 park in space 7: 1.0\n",
      "car 72 park in space 124: 1.0\n",
      "car 73 park in space 10: 1.0\n",
      "car 74 park in space 37: 1.0\n",
      "car 75 park in space 163: 1.0\n",
      "car 76 park in space 90: 1.0\n",
      "car 77 park in space 16: 1.0\n",
      "car 78 park in space 86: 1.0\n",
      "car 79 park in space 112: 1.0\n",
      "car 80 park in space 57: 1.0\n",
      "car 81 park in space 128: 1.0\n",
      "car 82 park in space 138: 1.0\n",
      "car 83 park in space 136: 1.0\n",
      "car 84 park in space 63: 1.0\n",
      "car 85 park in space 121: 1.0\n",
      "car 86 park in space 172: 1.0\n",
      "car 87 park in space 132: 1.0\n",
      "car 88 park in space 91: 1.0\n",
      "car 89 park in space 158: 1.0\n",
      "car 90 park in space 106: 1.0\n",
      "car 91 park in space 127: 1.0\n",
      "car 92 park in space 113: 1.0\n",
      "car 93 park in space 56: 1.0\n",
      "car 94 park in space 57: 1.0\n",
      "car 95 park in space 17: 1.0\n",
      "car 96 park in space 50: 1.0\n",
      "car 97 park in space 139: 1.0\n",
      "car 98 park in space 119: 1.0\n",
      "car 99 park in space 98: 1.0\n",
      "car 100 park in space 117: 1.0\n"
     ]
    }
   ],
   "source": [
    "\n",
    "for d in Demand:\n",
    "    for s in Supply:\n",
    "        if x[d,s].X > 0:\n",
    "            print(\"car %s park in space %s: %s\"%(d,s,x[d,s].X))"
   ]
  },
  {
   "cell_type": "code",
   "execution_count": 29,
   "metadata": {},
   "outputs": [],
   "source": [
    "def show_demand(a):\n",
    "    for i in a:\n",
    "        print(Type_d[i], Location_d[i], Time[i], Penalty[i])\n"
   ]
  },
  {
   "cell_type": "code",
   "execution_count": 30,
   "metadata": {},
   "outputs": [
    {
     "name": "stdout",
     "output_type": "stream",
     "text": [
      "2 [15, 22] [556, 794] 128\n",
      "3 [41, 19] [83, 595] 379\n",
      "3 [48, 34] [330, 575] 484\n"
     ]
    }
   ],
   "source": [
    "show_demand([1,5,14])"
   ]
  },
  {
   "cell_type": "code",
   "execution_count": 31,
   "metadata": {},
   "outputs": [
    {
     "name": "stdout",
     "output_type": "stream",
     "text": [
      "﻿type,Location_X,Location_Y\r",
      "\r\n",
      "1,30,33\r",
      "\r\n"
     ]
    }
   ],
   "source": [
    "!cat prj1_test_data/Space_1.csv"
   ]
  },
  {
   "cell_type": "code",
   "execution_count": 32,
   "metadata": {},
   "outputs": [
    {
     "name": "stdout",
     "output_type": "stream",
     "text": [
      "Car_Demand_10.csv   Car_Demand_20.csv   Space_1.csv         answer_2.docx\r\n",
      "Car_Demand_100.csv  Car_Demand_200.csv  Space_10.csv        ~$swer_2.docx\r\n",
      "Car_Demand_1000.csv Car_Demand_5.csv    Space_200.csv\r\n"
     ]
    }
   ],
   "source": [
    "!ls prj1_test_data"
   ]
  },
  {
   "cell_type": "code",
   "execution_count": null,
   "metadata": {},
   "outputs": [],
   "source": []
  }
 ],
 "metadata": {
  "kernelspec": {
   "display_name": "Python 3",
   "language": "python",
   "name": "python3"
  },
  "language_info": {
   "codemirror_mode": {
    "name": "ipython",
    "version": 3
   },
   "file_extension": ".py",
   "mimetype": "text/x-python",
   "name": "python",
   "nbconvert_exporter": "python",
   "pygments_lexer": "ipython3",
   "version": "3.8.5"
  }
 },
 "nbformat": 4,
 "nbformat_minor": 4
}
