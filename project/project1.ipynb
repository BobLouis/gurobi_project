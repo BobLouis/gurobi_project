{
 "cells": [
  {
   "cell_type": "markdown",
   "metadata": {},
   "source": [
    "<h2>import data from excel</h2>"
   ]
  },
  {
   "cell_type": "code",
   "execution_count": 2,
   "metadata": {},
   "outputs": [],
   "source": [
    "import pandas as pd\n",
    "import numpy as np\n",
    "import csv\n",
    "df={}\n",
    "Demand_num=10 #follow the input file\n",
    "Demand = list()\n",
    "Demand = list(range(1,Demand_num+1))\n",
    "df=pd.read_csv(\"./prj1_test_data/Car_Demand_\"+str(Demand_num)+\".csv\")\n",
    "Type_d={}\n",
    "Location_d={}\n",
    "Time={}\n",
    "Penalty={}\n",
    "for i in range(1,Demand_num+1):\n",
    "    Location_d[i] = list()\n",
    "    Time[i] = list()\n",
    "    Type_d[i]=df.iloc[i-1][\"type\"]\n",
    "    Location_d[i].append(df.iloc[i-1][\"Location_X\"])\n",
    "    Location_d[i].append(df.iloc[i-1][\"Location_Y\"])\n",
    "    Time[i].append(df.iloc[i-1][\"Time_H\"])\n",
    "    Time[i].append(df.iloc[i-1][\"Time_E\"])\n",
    "    Penalty[i]=df.iloc[i-1][\"Penalty\"]\n"
   ]
  },
  {
   "cell_type": "code",
   "execution_count": 24,
   "metadata": {},
   "outputs": [
    {
     "name": "stdout",
     "output_type": "stream",
     "text": [
      "[1, 2, 3, 4, 5, 6, 7, 8, 9, 10]\n",
      "\n",
      "{1: 3, 2: 3, 3: 2, 4: 1, 5: 2, 6: 3, 7: 1, 8: 1, 9: 2, 10: 3}\n",
      "\n",
      "{1: [8, 20], 2: [21, 1], 3: [8, 9], 4: [36, 14], 5: [18, 36], 6: [49, 29], 7: [16, 7], 8: [13, 41], 9: [42, 25], 10: [37, 22]}\n",
      "\n",
      "{1: [748, 886], 2: [173, 545], 3: [296, 655], 4: [61, 524], 5: [824, 981], 6: [644, 678], 7: [222, 625], 8: [713, 932], 9: [909, 927], 10: [310, 749]}\n",
      "\n",
      "{1: 446, 2: 426, 3: 234, 4: 488, 5: 144, 6: 309, 7: 86, 8: 353, 9: 180, 10: 430}\n"
     ]
    }
   ],
   "source": [
    "print(Demand)\n",
    "print()\n",
    "print(Type_d)\n",
    "print()\n",
    "print(Location_d)\n",
    "print()\n",
    "print(Time)\n",
    "print()\n",
    "print(Penalty)"
   ]
  },
  {
   "cell_type": "code",
   "execution_count": 4,
   "metadata": {},
   "outputs": [],
   "source": [
    "df2={}\n",
    "Supply_num=10 \n",
    "Supply = list()\n",
    "Supply = list(range(1,Supply_num+1))\n",
    "df2=pd.read_csv(\"./prj1_test_data/Space_\"+str(Supply_num)+\".csv\")\n",
    "Type_s={}\n",
    "Location_s={}\n",
    "for i in range(1,Supply_num+1):\n",
    "    Location_s[i]=list()\n",
    "    Type_s[i]=df2.iloc[i-1][\"type\"]\n",
    "    Location_s[i].append(df2.iloc[i-1][\"Location_X\"])\n",
    "    Location_s[i].append(df2.iloc[i-1][\"Location_Y\"])"
   ]
  },
  {
   "cell_type": "code",
   "execution_count": 5,
   "metadata": {
    "scrolled": true
   },
   "outputs": [
    {
     "name": "stdout",
     "output_type": "stream",
     "text": [
      "[1, 2, 3, 4, 5, 6, 7, 8, 9, 10]\n",
      "{1: 3, 2: 1, 3: 3, 4: 3, 5: 2, 6: 1, 7: 3, 8: 2, 9: 3, 10: 3}\n",
      "{1: [43, 34], 2: [49, 22], 3: [45, 1], 4: [30, 17], 5: [37, 40], 6: [7, 17], 7: [5, 22], 8: [48, 26], 9: [12, 15], 10: [4, 8]}\n"
     ]
    }
   ],
   "source": [
    "print(Supply)\n",
    "print(Type_s)\n",
    "print(Location_s)"
   ]
  },
  {
   "cell_type": "code",
   "execution_count": 19,
   "metadata": {},
   "outputs": [],
   "source": [
    "def check_time_overlap(a,b):\n",
    "    if (a[0]<b[0]):\n",
    "        if (b[0]-a[0]) < (a[1] - a[0]):\n",
    "            return True\n",
    "        else:\n",
    "            return False\n",
    "    elif (a[0]>b[0]):\n",
    "        if (a[0]-b[0]) < (b[1] - b[0]):\n",
    "            return True\n",
    "        else:\n",
    "            return False\n",
    "    else :\n",
    "        return True\n",
    "        \n",
    "        "
   ]
  },
  {
   "cell_type": "code",
   "execution_count": 32,
   "metadata": {},
   "outputs": [
    {
     "data": {
      "text/plain": [
       "False"
      ]
     },
     "execution_count": 32,
     "metadata": {},
     "output_type": "execute_result"
    }
   ],
   "source": [
    "check_time_overlap([100,150],[0,100])\n",
    "# print(Time[1])"
   ]
  },
  {
   "cell_type": "code",
   "execution_count": 23,
   "metadata": {},
   "outputs": [],
   "source": [
    "from gurobipy import*\n",
    "import math"
   ]
  },
  {
   "cell_type": "code",
   "execution_count": 43,
   "metadata": {
    "scrolled": true
   },
   "outputs": [],
   "source": [
    "model = Model(\"Car_parking\")\n",
    "x={}\n",
    "y={}"
   ]
  },
  {
   "cell_type": "markdown",
   "metadata": {},
   "source": [
    "<h2>init var</h2>"
   ]
  },
  {
   "cell_type": "code",
   "execution_count": 45,
   "metadata": {
    "scrolled": true
   },
   "outputs": [],
   "source": [
    "for d in Demand:\n",
    "    y[d] = model.addVar(vtype = \"B\",name = \"y(%s)\"%d)\n",
    "    for s in Supply:\n",
    "        x[d,s] = model.addVar(vtype=\"B\",name = \"x(%s,%s)\"%(d,s))\n",
    "model.update()\n",
    "\n",
    "        "
   ]
  },
  {
   "cell_type": "code",
   "execution_count": 39,
   "metadata": {},
   "outputs": [
    {
     "name": "stdout",
     "output_type": "stream",
     "text": [
      "[1, 2, 3, 4, 5, 6, 7, 8, 9, 10]\n",
      "\n",
      "[1, 2, 3, 4, 5, 6, 7, 8, 9, 10]\n",
      "\n",
      "{1: 3, 2: 3, 3: 2, 4: 1, 5: 2, 6: 3, 7: 1, 8: 1, 9: 2, 10: 3}\n",
      "\n",
      "{1: 3, 2: 1, 3: 3, 4: 3, 5: 2, 6: 1, 7: 3, 8: 2, 9: 3, 10: 3}\n"
     ]
    }
   ],
   "source": [
    "print(Demand)\n",
    "print()\n",
    "print(Supply)\n",
    "print()\n",
    "print(Type_d)\n",
    "print()\n",
    "print(Type_s)"
   ]
  },
  {
   "cell_type": "markdown",
   "metadata": {},
   "source": [
    "<h1>add constraint</h1>\n",
    "<h2>time constraint</h2>\n",
    "<br>\n",
    "<h3>one demand correspond to one supply</h3>\n",
    "<h3>But a supply can correspond to several demand</h3>\n",
    "<p>quicksum(x[d,s] for s in Supply) = 1 for d in Demand</p>\n",
    "<br>\n",
    "<h3>Type constraint</h3>\n",
    "   "
   ]
  },
  {
   "cell_type": "code",
   "execution_count": 50,
   "metadata": {},
   "outputs": [],
   "source": [
    "R=20\n",
    "#demand constraint\n",
    "for d in Demand:\n",
    "    model.addConstr(quicksum(x[d,s] for s in Supply) == 1,name = \"Demand constraint\")\n",
    "    \n",
    "#time constraint\n",
    "for i in Demand:\n",
    "    for j in range(i+1,Demand_num+1):\n",
    "        if check_time_overlap(Time[i],Time[j]) == True:\n",
    "            for s in Supply:\n",
    "                model.addConstr((x[i,s]+x[j,s]) <= 1, name = \"Time overlap constraint\" ) \n",
    "#type constraint\n",
    "for d in Demand:\n",
    "    for s in Supply:\n",
    "        if Type_d[d] > Type_d[s]:\n",
    "            model.addConstr(x[d,s] == 0, name = \"Type constraint\")\n",
    "            \n",
    "#distance constriant \n",
    "r=math.sqrt((Location_d[d][0]-Location_s[s][0])**2+(Location_d[d][1]-Location_s[s][1])**2)\n",
    "for d in Demand:\n",
    "    for s in Supply:\n",
    "        model.addConstr(r*x[d,s]<=R, name = \"distance constraint\")"
   ]
  },
  {
   "cell_type": "code",
   "execution_count": null,
   "metadata": {},
   "outputs": [],
   "source": [
    "r=math.sqrt((Location_d[d][0]-location_s[s][0])**2+(Location_d[d][1]-location_s[s][1])**2)\n",
    "model.setObjective(quicksum(Penalty[d]/r)*x[d,s] for (d,s) in x)-(Penalty[d])*y[d])"
   ]
  }
 ],
 "metadata": {
  "kernelspec": {
   "display_name": "Python 3",
   "language": "python",
   "name": "python3"
  },
  "language_info": {
   "codemirror_mode": {
    "name": "ipython",
    "version": 3
   },
   "file_extension": ".py",
   "mimetype": "text/x-python",
   "name": "python",
   "nbconvert_exporter": "python",
   "pygments_lexer": "ipython3",
   "version": "3.8.5"
  }
 },
 "nbformat": 4,
 "nbformat_minor": 4
}
