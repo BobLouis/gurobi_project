{
 "cells": [
  {
   "cell_type": "code",
   "execution_count": 40,
   "metadata": {},
   "outputs": [],
   "source": [
    "from gurobipy import*"
   ]
  },
  {
   "cell_type": "code",
   "execution_count": 41,
   "metadata": {},
   "outputs": [],
   "source": [
    "I,d = multidict({1:80, 2:270, 3:250, 4:160, 5:180})\n",
    "J,M = multidict({1:500, 2:500, 3:500})\n",
    "c={(1,1):4, (1,2):6, (1,3):9,\n",
    "   (2,1):5, (2,2):4, (2,3):7,\n",
    "   (3,1):6, (3,2):3, (3,3):4,\n",
    "   (4,1):8, (4,2):5, (4,3):3,\n",
    "   (5,1):10,(5,2):8, (5,3):4,\n",
    "  }"
   ]
  },
  {
   "cell_type": "code",
   "execution_count": 42,
   "metadata": {},
   "outputs": [
    {
     "name": "stdout",
     "output_type": "stream",
     "text": [
      "[1, 2, 3, 4, 5]\n",
      "{1: 80, 2: 270, 3: 250, 4: 160, 5: 180}\n",
      "80\n",
      "{(1, 1): 4, (1, 2): 6, (1, 3): 9, (2, 1): 5, (2, 2): 4, (2, 3): 7, (3, 1): 6, (3, 2): 3, (3, 3): 4, (4, 1): 8, (4, 2): 5, (4, 3): 3, (5, 1): 10, (5, 2): 8, (5, 3): 4}\n",
      "4\n",
      "4\n"
     ]
    }
   ],
   "source": [
    "print(I)\n",
    "print(d)\n",
    "print(d[1])\n",
    "print(c)\n",
    "print(c[(1,1)])\n",
    "print(c[1,1])"
   ]
  },
  {
   "cell_type": "code",
   "execution_count": 43,
   "metadata": {
    "scrolled": true
   },
   "outputs": [],
   "source": [
    "model = Model(\"transportation\")\n",
    "x={}\n"
   ]
  },
  {
   "cell_type": "markdown",
   "metadata": {},
   "source": [
    "<h2>adding variable  that how many products from factory j to customer i</h2>"
   ]
  },
  {
   "cell_type": "code",
   "execution_count": 44,
   "metadata": {
    "scrolled": true
   },
   "outputs": [],
   "source": [
    "for i in I:\n",
    "    for j in J:\n",
    "        x[i,j] = model.addVar(lb = 0,vtype = \"C\", name = \"x(%s,%s)\"%(i,j))\n",
    "model.update()"
   ]
  },
  {
   "cell_type": "code",
   "execution_count": 45,
   "metadata": {
    "scrolled": true
   },
   "outputs": [
    {
     "name": "stdout",
     "output_type": "stream",
     "text": [
      "{(1, 1): <gurobi.Var x(1,1)>, (1, 2): <gurobi.Var x(1,2)>, (1, 3): <gurobi.Var x(1,3)>, (2, 1): <gurobi.Var x(2,1)>, (2, 2): <gurobi.Var x(2,2)>, (2, 3): <gurobi.Var x(2,3)>, (3, 1): <gurobi.Var x(3,1)>, (3, 2): <gurobi.Var x(3,2)>, (3, 3): <gurobi.Var x(3,3)>, (4, 1): <gurobi.Var x(4,1)>, (4, 2): <gurobi.Var x(4,2)>, (4, 3): <gurobi.Var x(4,3)>, (5, 1): <gurobi.Var x(5,1)>, (5, 2): <gurobi.Var x(5,2)>, (5, 3): <gurobi.Var x(5,3)>}\n"
     ]
    }
   ],
   "source": [
    "print(x)"
   ]
  },
  {
   "cell_type": "markdown",
   "metadata": {},
   "source": [
    "<h2>setting constraint</h2>\n",
    "<h3>the sum of prouducts to customers from every factory from every factory</h3>\n",
    "<p>for i in I</p>\n",
    "<p>sum of (i,:) = d[ i ]</p>\n",
    "<br>\n",
    "<h3>the sum of products from each factory is less equal to the capacity of the factory</h3>\n",
    "<p>for j in J</p>\n",
    "<p>sum of (j,:) <= M[ j ]</p>\n"
   ]
  },
  {
   "cell_type": "code",
   "execution_count": 46,
   "metadata": {},
   "outputs": [],
   "source": [
    "for i in I:\n",
    "    model.addConstr(quicksum(x[i,j] for j in J) == d[i],name=\"Demand(%s)\"%i)\n",
    "for j in J:\n",
    "    model.addConstr(quicksum(x[i,j] for i in I) <= M[j],name=\"Capacity(%s)\"%j)"
   ]
  },
  {
   "cell_type": "markdown",
   "metadata": {},
   "source": [
    "<h2>setting up object to minimize the fare</h2>"
   ]
  },
  {
   "cell_type": "code",
   "execution_count": 47,
   "metadata": {},
   "outputs": [
    {
     "name": "stdout",
     "output_type": "stream",
     "text": [
      "Gurobi Optimizer version 9.1.2 build v9.1.2rc0 (mac64)\n",
      "Thread count: 4 physical cores, 8 logical processors, using up to 8 threads\n",
      "Optimize a model with 8 rows, 15 columns and 30 nonzeros\n",
      "Model fingerprint: 0xa225ad1d\n",
      "Coefficient statistics:\n",
      "  Matrix range     [1e+00, 1e+00]\n",
      "  Objective range  [3e+00, 1e+01]\n",
      "  Bounds range     [0e+00, 0e+00]\n",
      "  RHS range        [8e+01, 5e+02]\n",
      "Presolve time: 0.01s\n",
      "Presolved: 8 rows, 15 columns, 30 nonzeros\n",
      "\n",
      "Iteration    Objective       Primal Inf.    Dual Inf.      Time\n",
      "       0    3.3500000e+03   2.000000e+01   0.000000e+00      0s\n",
      "       1    3.3700000e+03   0.000000e+00   0.000000e+00      0s\n",
      "\n",
      "Solved in 1 iterations and 0.01 seconds\n",
      "Optimal objective  3.370000000e+03\n",
      "optimal value 3370.0\n"
     ]
    }
   ],
   "source": [
    "model.setObjective(quicksum(c[i,j]*x[i,j] for (i,j) in x), GRB.MINIMIZE)\n",
    "model.optimize()\n",
    "print(\"optimal value\", model.objVal)"
   ]
  },
  {
   "cell_type": "markdown",
   "metadata": {},
   "source": [
    "<h2>show each variables</h2>"
   ]
  },
  {
   "cell_type": "code",
   "execution_count": 48,
   "metadata": {
    "scrolled": true
   },
   "outputs": [
    {
     "name": "stdout",
     "output_type": "stream",
     "text": [
      "sending quantity 80.0 from factory 1 to customer 1\n",
      "sending quantity 0.0 from factory 2 to customer 1\n",
      "sending quantity 0.0 from factory 3 to customer 1\n",
      "sending quantity 20.0 from factory 1 to customer 2\n",
      "sending quantity 250.0 from factory 2 to customer 2\n",
      "sending quantity 0.0 from factory 3 to customer 2\n",
      "sending quantity 0.0 from factory 1 to customer 3\n",
      "sending quantity 250.0 from factory 2 to customer 3\n",
      "sending quantity 0.0 from factory 3 to customer 3\n",
      "sending quantity 0.0 from factory 1 to customer 4\n",
      "sending quantity 0.0 from factory 2 to customer 4\n",
      "sending quantity 160.0 from factory 3 to customer 4\n",
      "sending quantity 0.0 from factory 1 to customer 5\n",
      "sending quantity 0.0 from factory 2 to customer 5\n",
      "sending quantity 180.0 from factory 3 to customer 5\n"
     ]
    }
   ],
   "source": [
    "EPS = 1.e-6\n",
    "for  (i,j) in x:\n",
    "    print(\"sending quantity %s from factory %s to customer %s\"%(x[i,j].X, j, i))"
   ]
  },
  {
   "cell_type": "markdown",
   "metadata": {},
   "source": [
    "## "
   ]
  }
 ],
 "metadata": {
  "kernelspec": {
   "display_name": "Python 3",
   "language": "python",
   "name": "python3"
  },
  "language_info": {
   "codemirror_mode": {
    "name": "ipython",
    "version": 3
   },
   "file_extension": ".py",
   "mimetype": "text/x-python",
   "name": "python",
   "nbconvert_exporter": "python",
   "pygments_lexer": "ipython3",
   "version": "3.8.5"
  }
 },
 "nbformat": 4,
 "nbformat_minor": 4
}
