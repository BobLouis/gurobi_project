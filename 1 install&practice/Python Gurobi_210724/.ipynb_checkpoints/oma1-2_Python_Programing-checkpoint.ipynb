{
 "cells": [
  {
   "cell_type": "markdown",
   "metadata": {},
   "source": [
    "# OMA 1-2 Python Programing"
   ]
  },
  {
   "cell_type": "markdown",
   "metadata": {},
   "source": [
    "## Load the Gurobi Module"
   ]
  },
  {
   "cell_type": "code",
   "execution_count": 1,
   "metadata": {},
   "outputs": [],
   "source": [
    "from gurobipy import*"
   ]
  },
  {
   "cell_type": "markdown",
   "metadata": {},
   "source": [
    "## Define the Model"
   ]
  },
  {
   "cell_type": "code",
   "execution_count": 2,
   "metadata": {},
   "outputs": [
    {
     "name": "stdout",
     "output_type": "stream",
     "text": [
      "Academic license - for non-commercial use only - expires 2022-08-16\n",
      "Using license file /Users/kounuki/gurobi.lic\n"
     ]
    }
   ],
   "source": [
    "model = Model(\"lo1\")"
   ]
  },
  {
   "cell_type": "markdown",
   "metadata": {},
   "source": [
    "## Define Variables"
   ]
  },
  {
   "cell_type": "code",
   "execution_count": 3,
   "metadata": {},
   "outputs": [],
   "source": [
    "x1 = model.addVar(lb = 0,ub = GRB.INFINITY,obj = 15,vtype = \"C\",name = \"item 1\")\n",
    "x2 = model.addVar(name = \"item 2\")\n",
    "x3 = model.addVar(ub = 30,name = \"item 3\")"
   ]
  },
  {
   "cell_type": "markdown",
   "metadata": {},
   "source": [
    "## Model Update"
   ]
  },
  {
   "cell_type": "code",
   "execution_count": 4,
   "metadata": {},
   "outputs": [],
   "source": [
    "model.update()"
   ]
  },
  {
   "cell_type": "markdown",
   "metadata": {},
   "source": [
    "## Define Constraints"
   ]
  },
  {
   "cell_type": "markdown",
   "metadata": {},
   "source": [
    "### Linear expression"
   ]
  },
  {
   "cell_type": "code",
   "execution_count": 5,
   "metadata": {},
   "outputs": [
    {
     "data": {
      "text/plain": [
       "<gurobi.Constr *Awaiting Model Update*>"
      ]
     },
     "execution_count": 5,
     "metadata": {},
     "output_type": "execute_result"
    }
   ],
   "source": [
    "L1 = LinExpr()\n",
    "L1.addTerms(2,x1)\n",
    "L1.addTerms(1,x2)\n",
    "L1.addTerms(1,x3)\n",
    "model.addConstr(lhs = L1,sense = \"<=\",rhs = 60)\n",
    "L2 = LinExpr([1,2,1],[x1,x2,x3])\n",
    "model.addConstr(L2,\"<=\",60)"
   ]
  },
  {
   "cell_type": "markdown",
   "metadata": {},
   "source": [
    "### Brief expression"
   ]
  },
  {
   "cell_type": "code",
   "execution_count": 6,
   "metadata": {},
   "outputs": [
    {
     "data": {
      "text/plain": [
       "<gurobi.Constr *Awaiting Model Update*>"
      ]
     },
     "execution_count": 6,
     "metadata": {},
     "output_type": "execute_result"
    }
   ],
   "source": [
    "model.addConstr(2*x1+x2+x3<=60)\n",
    "model.addConstr(x1+2*x2+x3<=60)"
   ]
  },
  {
   "cell_type": "markdown",
   "metadata": {},
   "source": [
    "## Define Objective Function"
   ]
  },
  {
   "cell_type": "code",
   "execution_count": 7,
   "metadata": {},
   "outputs": [],
   "source": [
    "model.setObjective(15*x1+18*x2+30*x3,GRB.MAXIMIZE)"
   ]
  },
  {
   "cell_type": "markdown",
   "metadata": {},
   "source": [
    "## Model Optimize"
   ]
  },
  {
   "cell_type": "code",
   "execution_count": 8,
   "metadata": {},
   "outputs": [
    {
     "name": "stdout",
     "output_type": "stream",
     "text": [
      "Gurobi Optimizer version 9.1.2 build v9.1.2rc0 (mac64)\n",
      "Thread count: 4 physical cores, 8 logical processors, using up to 8 threads\n",
      "Optimize a model with 4 rows, 3 columns and 12 nonzeros\n",
      "Model fingerprint: 0x9364bc3e\n",
      "Coefficient statistics:\n",
      "  Matrix range     [1e+00, 2e+00]\n",
      "  Objective range  [2e+01, 3e+01]\n",
      "  Bounds range     [3e+01, 3e+01]\n",
      "  RHS range        [6e+01, 6e+01]\n",
      "Presolve removed 2 rows and 0 columns\n",
      "Presolve time: 0.01s\n",
      "Presolved: 2 rows, 3 columns, 6 nonzeros\n",
      "\n",
      "Iteration    Objective       Primal Inf.    Dual Inf.      Time\n",
      "       0    1.8000000e+03   3.750000e+00   0.000000e+00      0s\n",
      "       2    1.2300000e+03   0.000000e+00   0.000000e+00      0s\n",
      "\n",
      "Solved in 2 iterations and 0.01 seconds\n",
      "Optimal objective  1.230000000e+03\n",
      "Warning: variable name \"item 1\" has a space\n",
      "Warning: to let Gurobi read it back, use rlp format\n"
     ]
    }
   ],
   "source": [
    "model.optimize()\n",
    "model.write('test.lp')"
   ]
  },
  {
   "cell_type": "markdown",
   "metadata": {},
   "source": [
    "## Return Value"
   ]
  },
  {
   "cell_type": "code",
   "execution_count": 9,
   "metadata": {},
   "outputs": [
    {
     "name": "stdout",
     "output_type": "stream",
     "text": [
      "Opt. Value = 1230.0\n"
     ]
    }
   ],
   "source": [
    "print(\"Opt. Value =\",model.ObjVal)"
   ]
  },
  {
   "cell_type": "code",
   "execution_count": 10,
   "metadata": {
    "scrolled": true
   },
   "outputs": [
    {
     "name": "stdout",
     "output_type": "stream",
     "text": [
      "item 1 10.0\n",
      "item 2 10.0\n",
      "item 3 30.0\n"
     ]
    }
   ],
   "source": [
    "for v in model.getVars():\n",
    "    print(v.VarName,v.X)"
   ]
  },
  {
   "cell_type": "markdown",
   "metadata": {},
   "source": [
    "\n",
    "<h1>Summary</h1>\n"
   ]
  },
  {
   "cell_type": "code",
   "execution_count": 2,
   "metadata": {},
   "outputs": [
    {
     "name": "stdout",
     "output_type": "stream",
     "text": [
      "Gurobi Optimizer version 9.1.2 build v9.1.2rc0 (mac64)\n",
      "Thread count: 4 physical cores, 8 logical processors, using up to 8 threads\n",
      "Optimize a model with 2 rows, 3 columns and 6 nonzeros\n",
      "Model fingerprint: 0x1da73bc0\n",
      "Coefficient statistics:\n",
      "  Matrix range     [1e+00, 2e+00]\n",
      "  Objective range  [2e+01, 3e+01]\n",
      "  Bounds range     [3e+01, 3e+01]\n",
      "  RHS range        [6e+01, 6e+01]\n",
      "Presolve time: 0.00s\n",
      "Presolved: 2 rows, 3 columns, 6 nonzeros\n",
      "\n",
      "Iteration    Objective       Primal Inf.    Dual Inf.      Time\n",
      "       0    3.3000000e+31   3.000000e+30   3.300000e+01      0s\n",
      "       3    1.2300000e+03   0.000000e+00   0.000000e+00      0s\n",
      "\n",
      "Solved in 3 iterations and 0.01 seconds\n",
      "Optimal objective  1.230000000e+03\n",
      "optiaml value =  1230.0\n",
      "[<gurobi.Var item1 (value 10.0)>, <gurobi.Var item2 (value 10.0)>, <gurobi.Var item3 (value 30.0)>]\n"
     ]
    }
   ],
   "source": [
    "from gurobipy import*\n",
    "model = Model (\"summary\")\n",
    "x1 = model.addVar(lb = 0,ub = GRB.INFINITY,obj = 15,vtype = \"C\",name = \"item1\")\n",
    "x2 = model.addVar(lb = 0,ub = GRB.INFINITY,obj = 18,vtype = \"C\",name = \"item2\")\n",
    "x3 = model.addVar(lb = 0,ub = 30,obj = 30,vtype = \"C\",name = \"item3\")\n",
    "model.update()\n",
    "model.addConstr(2*x1+x2+x3<=60)\n",
    "model.addConstr(x1+2*x2+x3<=60)\n",
    "model.setObjective(15*x1+18*x2+30*x3,GRB.MAXIMIZE)\n",
    "model.optimize()\n",
    "print(\"optiaml value = \",model.objVal)\n",
    "# for v in model.getVars():\n",
    "#     print(v.VarName,v.X)\n",
    "print(model.getVars())"
   ]
  },
  {
   "cell_type": "code",
   "execution_count": null,
   "metadata": {},
   "outputs": [],
   "source": []
  }
 ],
 "metadata": {
  "kernelspec": {
   "display_name": "Python 3",
   "language": "python",
   "name": "python3"
  },
  "language_info": {
   "codemirror_mode": {
    "name": "ipython",
    "version": 3
   },
   "file_extension": ".py",
   "mimetype": "text/x-python",
   "name": "python",
   "nbconvert_exporter": "python",
   "pygments_lexer": "ipython3",
   "version": "3.8.5"
  }
 },
 "nbformat": 4,
 "nbformat_minor": 2
}
