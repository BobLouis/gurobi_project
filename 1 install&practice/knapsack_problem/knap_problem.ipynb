{
 "cells": [
  {
   "cell_type": "code",
   "execution_count": 1,
   "id": "3a4d19cc",
   "metadata": {},
   "outputs": [],
   "source": [
    "from gurobipy import*"
   ]
  },
  {
   "cell_type": "markdown",
   "id": "54832e37",
   "metadata": {},
   "source": [
    "<h1>initial value</h1>"
   ]
  },
  {
   "cell_type": "code",
   "execution_count": 5,
   "id": "0e6f22e2",
   "metadata": {},
   "outputs": [],
   "source": [
    "def init_var():\n",
    "    #init items price\n",
    "    J, v = multidict({1:16, 2:19, 3:23, 4:28}) \n",
    "    #init items info weight and Value\n",
    "    a = {(1,1):2,\n",
    "         (1,2):3,\n",
    "         (1,3):4,\n",
    "         (1,4):5,\n",
    "        \n",
    "         (2,1):3000,\n",
    "         (2,2):3500,\n",
    "         (2,3):5100,\n",
    "         (2,4):7200}\n",
    "    #init constraint\n",
    "    I,b = multidict({1:7, 2:10000})\n",
    "    return I, J, v, a, b"
   ]
  },
  {
   "cell_type": "code",
   "execution_count": 19,
   "id": "19734a84",
   "metadata": {},
   "outputs": [
    {
     "name": "stdout",
     "output_type": "stream",
     "text": [
      "[1, 2, 3, 4]\n",
      "{1: 16, 2: 19, 3: 23, 4: 28}\n",
      "19\n",
      "2\n",
      "7\n"
     ]
    }
   ],
   "source": [
    "I, J, v, a, b = init_var()\n",
    "print(J)\n",
    "print(v)\n",
    "print(v[2])\n",
    "print(a[1,1])\n",
    "print(b[1])"
   ]
  },
  {
   "cell_type": "code",
   "execution_count": 8,
   "id": "b1cdd412",
   "metadata": {},
   "outputs": [],
   "source": [
    "model = Model(\"knap\")\n",
    "x = {}"
   ]
  },
  {
   "cell_type": "markdown",
   "id": "14c8d5fd",
   "metadata": {},
   "source": [
    "<h1>add variable how much items to choose</h1>"
   ]
  },
  {
   "cell_type": "code",
   "execution_count": 16,
   "id": "4496c505",
   "metadata": {},
   "outputs": [],
   "source": [
    "for j in J:\n",
    "    x[j] = model.addVar(lb = 0,ub = GRB.INFINITY,vtype = \"I\",name = \"item%s\"%j)\n",
    "model.update()"
   ]
  },
  {
   "cell_type": "code",
   "execution_count": 17,
   "id": "f2aef5be",
   "metadata": {},
   "outputs": [
    {
     "name": "stdout",
     "output_type": "stream",
     "text": [
      "{1: <gurobi.Var item1>, 2: <gurobi.Var item2>, 3: <gurobi.Var item3>, 4: <gurobi.Var item4>}\n"
     ]
    }
   ],
   "source": [
    "print(x)"
   ]
  },
  {
   "cell_type": "markdown",
   "id": "1e153120",
   "metadata": {},
   "source": [
    "<h1>Setting constraint</h1>\n",
    "<h3>wieght and value can't excced</h3>\n",
    "<h3>x[i] = 0 or 1</h3>\n"
   ]
  },
  {
   "cell_type": "code",
   "execution_count": 33,
   "id": "20ffbc1d",
   "metadata": {},
   "outputs": [],
   "source": [
    "for i in I:\n",
    "    model.addConstr(quicksum(x[j]*a[i,j] for j in J) <= b[i], name = \"constraint on weight and value\")\n",
    "for j in J:\n",
    "    model.addConstr(x[j] <= 1, name = \"quantity constraint\")"
   ]
  },
  {
   "cell_type": "markdown",
   "id": "77670838",
   "metadata": {},
   "source": [
    "<h1>setting object</h1>"
   ]
  },
  {
   "cell_type": "code",
   "execution_count": 34,
   "id": "524a17c1",
   "metadata": {},
   "outputs": [
    {
     "name": "stdout",
     "output_type": "stream",
     "text": [
      "Gurobi Optimizer version 9.1.2 build v9.1.2rc0 (mac64)\n",
      "Thread count: 4 physical cores, 8 logical processors, using up to 8 threads\n",
      "Optimize a model with 16 rows, 8 columns and 52 nonzeros\n",
      "Model fingerprint: 0x15f685f9\n",
      "Variable types: 0 continuous, 8 integer (0 binary)\n",
      "Coefficient statistics:\n",
      "  Matrix range     [1e+00, 7e+03]\n",
      "  Objective range  [2e+01, 3e+01]\n",
      "  Bounds range     [0e+00, 0e+00]\n",
      "  RHS range        [1e+00, 1e+04]\n",
      "\n",
      "MIP start from previous solve did not produce a new incumbent solution\n",
      "MIP start from previous solve violates constraint quantity_constraint by 1.000000000\n",
      "\n",
      "Found heuristic solution: objective 35.0000000\n",
      "Presolve removed 16 rows and 8 columns\n",
      "Presolve time: 0.00s\n",
      "Presolve: All rows and columns removed\n",
      "\n",
      "Explored 0 nodes (0 simplex iterations) in 0.01 seconds\n",
      "Thread count was 1 (of 8 available processors)\n",
      "\n",
      "Solution count 2: 42 35 \n",
      "\n",
      "Optimal solution found (tolerance 1.00e-04)\n",
      "Best objective 4.200000000000e+01, best bound 4.200000000000e+01, gap 0.0000%\n",
      "optimizer value = 42.0\n"
     ]
    }
   ],
   "source": [
    "model.setObjective(quicksum(x[j]*v[j] for j in J),GRB.MAXIMIZE)\n",
    "model.optimize()\n",
    "print(\"optimizer value =\",model.objVal)"
   ]
  },
  {
   "cell_type": "markdown",
   "id": "7708e44f",
   "metadata": {},
   "source": [
    "<h1>show each variable</h1>"
   ]
  },
  {
   "cell_type": "code",
   "execution_count": 35,
   "id": "bed52ca2",
   "metadata": {},
   "outputs": [
    {
     "name": "stdout",
     "output_type": "stream",
     "text": [
      "No.2 bear is choose 1.0 times\n",
      "No.3 bear is choose 1.0 times\n"
     ]
    }
   ],
   "source": [
    "for j in J:\n",
    "    if x[j].X > 0:\n",
    "        print(\"No.%s bear is choose %s times\"%(j,x[j].X))"
   ]
  },
  {
   "cell_type": "markdown",
   "id": "f7b85d83",
   "metadata": {},
   "source": [
    "<h1>output File</h1>"
   ]
  },
  {
   "cell_type": "code",
   "execution_count": 36,
   "id": "6a928706",
   "metadata": {},
   "outputs": [
    {
     "name": "stdout",
     "output_type": "stream",
     "text": [
      "Warning: variables 0 and 4 have the same name \"item1\"\n",
      "Warning: constraint name \"constraint on weight and value\" has a space\n",
      "Warning: to let Gurobi read it back, use rlp format\n",
      "Warning: variables 0 and 4 have the same name \"item1\"\n",
      "Warning: constraint name \"constraint on weight and value\" has a space\n",
      "Warning: default variable names used to write mps file\n",
      "Warning: default constraint names used to write mps file\n"
     ]
    }
   ],
   "source": [
    "model.update()\n",
    "model.write(\"out.lp\")\n",
    "model.write(\"out.mps\")"
   ]
  },
  {
   "cell_type": "code",
   "execution_count": 37,
   "id": "9e716154",
   "metadata": {},
   "outputs": [
    {
     "name": "stdout",
     "output_type": "stream",
     "text": [
      "knap_problem.ipynb out.lp             out.mps\r\n"
     ]
    }
   ],
   "source": [
    "!ls\n"
   ]
  },
  {
   "cell_type": "code",
   "execution_count": 38,
   "id": "7b8ef38e",
   "metadata": {},
   "outputs": [
    {
     "name": "stdout",
     "output_type": "stream",
     "text": [
      "\\ Model knap\r\n",
      "\\ LP format - for model browsing. Use MPS format to capture full model detail.\r\n",
      "Maximize\r\n",
      "  16 item1 + 19 item2 + 23 item3 + 28 item4\r\n",
      "Subject To\r\n",
      " constraint_on_weight_and_value: 2 item1 + 3 item2 + 4 item3 + 5 item4\r\n",
      "   <= 7\r\n",
      " constraint_on_weight_and_value: 3000 item1 + 3500 item2 + 5100 item3\r\n",
      "   + 7200 item4 <= 10000\r\n",
      " constraint_on_weight_and_value: 2 item1 + 3 item2 + 4 item3 + 5 item4\r\n",
      "   <= 7\r\n",
      " constraint_on_weight_and_value: 3000 item1 + 3500 item2 + 5100 item3\r\n",
      "   + 7200 item4 <= 10000\r\n",
      " constraint_on_weight_and_value: 2 item1 + 3 item2 + 4 item3 + 5 item4\r\n",
      "   <= 7\r\n",
      " constraint_on_weight_and_value: 3000 item1 + 3500 item2 + 5100 item3\r\n",
      "   + 7200 item4 <= 10000\r\n",
      " constraint_on_weight_and_value: 2 item1 + 3 item2 + 4 item3 + 5 item4\r\n",
      "   <= 7\r\n",
      " constraint_on_weight_and_value: 3000 item1 + 3500 item2 + 5100 item3\r\n",
      "   + 7200 item4 <= 10000\r\n",
      " constraint_on_weight_and_value: 2 item1 + 3 item2 + 4 item3 + 5 item4\r\n",
      "   <= 7\r\n",
      " constraint_on_weight_and_value: 3000 item1 + 3500 item2 + 5100 item3\r",
      "\r\n",
      "   + 7200 item4 <= 10000\r\n",
      " constraint_on_weight_and_value: 2 item1 + 3 item2 + 4 item3 + 5 item4\r\n",
      "   <= 7\r\n",
      " constraint_on_weight_and_value: 3000 item1 + 3500 item2 + 5100 item3\r\n",
      "   + 7200 item4 <= 10000\r\n",
      " quantity_constraint: item1 <= 1\r\n",
      " quantity_constraint: item2 <= 1\r\n",
      " quantity_constraint: item3 <= 1\r\n",
      " quantity_constraint: item4 <= 1\r\n",
      "Bounds\r\n",
      "Generals\r\n",
      " item1 item2 item3 item4 item1 item2 item3 item4\r\n",
      "End\r\n"
     ]
    }
   ],
   "source": [
    "!cat out.lp"
   ]
  },
  {
   "cell_type": "code",
   "execution_count": 39,
   "id": "93b44aed",
   "metadata": {},
   "outputs": [
    {
     "name": "stdout",
     "output_type": "stream",
     "text": [
      "NAME knap\r\n",
      "OBJSENSE MAX\r\n",
      "ROWS\r\n",
      " N  OBJ\r\n",
      " L  c0      \r\n",
      " L  c1      \r\n",
      " L  c2      \r\n",
      " L  c3      \r\n",
      " L  c4      \r\n",
      " L  c5      \r\n",
      " L  c6      \r\n",
      " L  c7      \r\n",
      " L  c8      \r\n",
      " L  c9      \r\n",
      " L  c10     \r\n",
      " L  c11     \r\n",
      " L  c12     \r\n",
      " L  c13     \r\n",
      " L  c14     \r\n",
      " L  c15     \r\n",
      "COLUMNS\r\n",
      "    MARKER    'MARKER'                 'INTORG'\r\n",
      "    I0(2)     c0        2\r\n",
      "    I0(2)     c1        3000\r\n",
      "    I1(2)     c0        3\r\n",
      "    I1(2)     c1        3500\r\n",
      "    I2(2)     c0        4\r\n",
      "    I2(2)     c1        5100\r\n",
      "    I3(2)     c0        5\r\n",
      "    I3(2)     c1        7200\r\n",
      "    I4(11)    OBJ       16\r\n",
      "    I4(11)    c2        2\r\n",
      "    I4(11)    c3        3000\r\n",
      "    I4(11)    c4        2\r\n",
      "    I4(11)    c5        3000\r\n",
      "    I4(11)    c6        2\r\n",
      "    I4(11)    c7        3000\r\n",
      "    I4(11)    c8        2\r\n",
      "    I4(11)    c9        3000\r\n",
      "    I4(11)    c10       2\r\n",
      "    I4(11)    c11       3000\r\n",
      "    I4(11)    c12       1\r\n",
      "    I5(11)    OBJ       19\r\n",
      "    I5(11)    c2        3\r\n",
      "    I5(11)    c3        3500\r\n",
      "    I5(11)    c4        3\r\n",
      "    I5(11)    c5        3500\r\n",
      "    I5(11)    c6        3\r\n",
      "    I5(11)    c7        3500\r\n",
      "    I5(11)    c8        3\r\n",
      "    I5(11)    c9        3500\r\n",
      "    I5(11)    c10       3\r\n",
      "    I5(11)    c11       3500\r\n",
      "    I5(11)    c13       1\r\n",
      "    I6(11)    OBJ       23\r\n",
      "    I6(11)    c2        4\r\n",
      "    I6(11)    c3        5100\r\n",
      "    I6(11)    c4        4\r\n",
      "    I6(11)    c5        5100\r\n",
      "    I6(11)    c6        4\r\n",
      "    I6(11)    c7        5100\r\n",
      "    I6(11)    c8        4\r\n",
      "    I6(11)    c9        5100\r\n",
      "    I6(11)    c10       4\r\n",
      "    I6(11)    c11       5100\r\n",
      "    I6(11)    c14       1\r\n",
      "    I7(11)    OBJ       28\r\n",
      "    I7(11)    c2        5\r\n",
      "    I7(11)    c3        7200\r\n",
      "    I7(11)    c4        5\r\n",
      "    I7(11)    c5        7200\r\n",
      "    I7(11)    c6        5\r\n",
      "    I7(11)    c7        7200\r\n",
      "    I7(11)    c8        5\r\n",
      "    I7(11)    c9        7200\r\n",
      "    I7(11)    c10       5\r\n",
      "    I7(11)    c11       7200\r\n",
      "    I7(11)    c15       1\r\n",
      "    MARKER    'MARKER'                 'INTEND'\r\n",
      "RHS\r\n",
      "    RHS1      c0        7\r\n",
      "    RHS1      c1        10000\r\n",
      "    RHS1      c2        7\r",
      "\r\n",
      "    RHS1      c3        10000\r\n",
      "    RHS1      c4        7\r\n",
      "    RHS1      c5        10000\r\n",
      "    RHS1      c6        7\r\n",
      "    RHS1      c7        10000\r\n",
      "    RHS1      c8        7\r\n",
      "    RHS1      c9        10000\r\n",
      "    RHS1      c10       7\r\n",
      "    RHS1      c11       10000\r\n",
      "    RHS1      c12       1\r\n",
      "    RHS1      c13       1\r\n",
      "    RHS1      c14       1\r\n",
      "    RHS1      c15       1\r\n",
      "BOUNDS\r\n",
      " LI BND1      I0(2)     0\r\n",
      " LI BND1      I1(2)     0\r\n",
      " LI BND1      I2(2)     0\r\n",
      " LI BND1      I3(2)     0\r\n",
      " LI BND1      I4(11)    0\r\n",
      " LI BND1      I5(11)    0\r\n",
      " LI BND1      I6(11)    0\r\n",
      " LI BND1      I7(11)    0\r\n",
      "ENDATA\r\n"
     ]
    }
   ],
   "source": [
    "!cat out.mps"
   ]
  },
  {
   "cell_type": "code",
   "execution_count": null,
   "id": "4cf23177",
   "metadata": {},
   "outputs": [],
   "source": []
  }
 ],
 "metadata": {
  "kernelspec": {
   "display_name": "Python 3",
   "language": "python",
   "name": "python3"
  },
  "language_info": {
   "codemirror_mode": {
    "name": "ipython",
    "version": 3
   },
   "file_extension": ".py",
   "mimetype": "text/x-python",
   "name": "python",
   "nbconvert_exporter": "python",
   "pygments_lexer": "ipython3",
   "version": "3.9.5"
  }
 },
 "nbformat": 4,
 "nbformat_minor": 5
}
