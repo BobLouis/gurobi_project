{
 "cells": [
  {
   "cell_type": "markdown",
   "metadata": {},
   "source": [
    "<h2>input file</h2>"
   ]
  },
  {
   "cell_type": "code",
   "execution_count": 1,
   "metadata": {},
   "outputs": [],
   "source": [
    "import os\n",
    "import fnmatch, re"
   ]
  },
  {
   "cell_type": "code",
   "execution_count": 2,
   "metadata": {
    "scrolled": true
   },
   "outputs": [
    {
     "name": "stdout",
     "output_type": "stream",
     "text": [
      "0 input1.txt\n",
      "1 input.txt\n"
     ]
    }
   ],
   "source": [
    "path = '/Users/kounuki/python_project/Gurobi/2 advanced practice/practice'\n",
    "files = fnmatch.filter(os.listdir(path), \"*.txt\")\n",
    "for i in range(len(files)):\n",
    "    print(i, files[i])"
   ]
  },
  {
   "cell_type": "markdown",
   "metadata": {},
   "source": [
    "<h2>process data</h2>"
   ]
  },
  {
   "cell_type": "code",
   "execution_count": 3,
   "metadata": {
    "scrolled": false
   },
   "outputs": [
    {
     "name": "stdout",
     "output_type": "stream",
     "text": [
      "2 4\r\n",
      "16[1] 19[2] 23[3] 28[4]\r\n",
      "2[1][1] 3[1][2] 4[1][3] 5[1][4] 7[1]\r\n",
      "cc lemon\r\n",
      "3000[2][1] 3500[2][2] 5100[2][3] 7200[2][4] 20000[2]"
     ]
    }
   ],
   "source": [
    "!cat input.txt"
   ]
  },
  {
   "cell_type": "markdown",
   "metadata": {
    "scrolled": false
   },
   "source": [
    "with open (files[1]) as f:\n",
    "    contents = f.readlines()\n",
    "f.close()\n",
    "\n",
    "# omit c\n",
    "pop_arr = []\n",
    "for i in range(0,len(contents)):\n",
    "    if contents[i][0] == 'c':\n",
    "        pop_arr.append(i)\n",
    "for i in range(0,len(pop_arr)):\n",
    "    contents.pop(pop_arr[i])\n",
    "    \n",
    "# input data\n",
    "M, N = contents[0].split()\n",
    "M = int(M)\n",
    "N = int(N)\n",
    "info = {}\n",
    "value = {}\n",
    "constr = {}\n",
    "for n in range(1,N+1):\n",
    "    value[n] = contents[1].split()[n-1]\n",
    "    value[n] = value[n].split('[')[0]\n",
    "    value[n] = int(value[n])\n",
    "print('value',value)\n",
    "for m in range(1,M+1):\n",
    "    for n in range(1,N+1):\n",
    "        info[m,n] = contents[m+1].split()[n-1]\n",
    "        info[m,n] = info[m,n].split('[')[0]\n",
    "        info[m,n] = int(info[m,n])\n",
    "    constr[m] = contents[m+1].split()[N]\n",
    "    constr[m] = constr[m].split('[')[0]\n",
    "    constr[m] = int(constr[m])\n",
    "print('info',info)\n",
    "print('constr',constr)"
   ]
  },
  {
   "cell_type": "code",
   "execution_count": 9,
   "metadata": {},
   "outputs": [],
   "source": [
    "def input_var(file):\n",
    "    with open (file) as f:\n",
    "        contents = f.readlines()\n",
    "    f.close()\n",
    "\n",
    "    # omit c\n",
    "    pop_arr = []\n",
    "    for i in range(0,len(contents)):\n",
    "        if contents[i][0] == 'c':\n",
    "            pop_arr.append(i)\n",
    "    for i in range(0,len(pop_arr)):\n",
    "        contents.pop(pop_arr[i])\n",
    "\n",
    "    # input data\n",
    "    M, N = contents[0].split()\n",
    "    M = int(M)\n",
    "    N = int(N)\n",
    "    info = {}\n",
    "    value = {}\n",
    "    constr = {}\n",
    "    for n in range(1,N+1):\n",
    "        value[n] = contents[1].split()[n-1]\n",
    "        value[n] = value[n].split('[')[0]\n",
    "        value[n] = int(value[n])\n",
    "    print('value',value)\n",
    "    for m in range(1,M+1):\n",
    "        for n in range(1,N+1):\n",
    "            info[m,n] = contents[m+1].split()[n-1]\n",
    "            info[m,n] = info[m,n].split('[')[0]\n",
    "            info[m,n] = int(info[m,n])\n",
    "        constr[m] = contents[m+1].split()[N]\n",
    "        constr[m] = constr[m].split('[')[0]\n",
    "        constr[m] = int(constr[m])\n",
    "    print('info',info)\n",
    "    print('constr',constr)\n",
    "    return M, N, value, info, constr"
   ]
  },
  {
   "cell_type": "code",
   "execution_count": 14,
   "metadata": {},
   "outputs": [
    {
     "name": "stdout",
     "output_type": "stream",
     "text": [
      "value {1: 16, 2: 19, 3: 23, 4: 28}\n",
      "info {(1, 1): 2, (1, 2): 3, (1, 3): 4, (1, 4): 5, (2, 1): 3000, (2, 2): 3500, (2, 3): 5100, (2, 4): 7200}\n",
      "constr {1: 7, 2: 20000}\n"
     ]
    }
   ],
   "source": [
    "M, N, value, info, constr = input_var(files[1])"
   ]
  },
  {
   "cell_type": "markdown",
   "metadata": {},
   "source": [
    "<h2>gurobi solving problem</h2>"
   ]
  },
  {
   "cell_type": "code",
   "execution_count": 15,
   "metadata": {},
   "outputs": [],
   "source": [
    "from gurobipy import*"
   ]
  },
  {
   "cell_type": "code",
   "execution_count": 16,
   "metadata": {},
   "outputs": [],
   "source": [
    "model = Model(\"knap\")\n",
    "x = {}"
   ]
  },
  {
   "cell_type": "code",
   "execution_count": 17,
   "metadata": {},
   "outputs": [],
   "source": [
    "for n in range(1,N+1):\n",
    "    x[n] = model.addVar(lb = 0,ub = GRB.INFINITY,vtype = \"B\",name = \"item%s\"%n)\n",
    "model.update()"
   ]
  },
  {
   "cell_type": "code",
   "execution_count": 18,
   "metadata": {},
   "outputs": [
    {
     "name": "stdout",
     "output_type": "stream",
     "text": [
      "{1: <gurobi.Var item1>, 2: <gurobi.Var item2>, 3: <gurobi.Var item3>, 4: <gurobi.Var item4>}\n"
     ]
    }
   ],
   "source": [
    "print(x)"
   ]
  },
  {
   "cell_type": "markdown",
   "metadata": {},
   "source": [
    "<h2>setting constraint</h2>"
   ]
  },
  {
   "cell_type": "code",
   "execution_count": 19,
   "metadata": {},
   "outputs": [],
   "source": [
    "for m in range(1,M+1):\n",
    "    model.addConstr(quicksum(info[m,n]*x[n] for n in range(1,N+1)) <= constr[m],name = \"constraint on weight and value\")\n"
   ]
  },
  {
   "cell_type": "code",
   "execution_count": 20,
   "metadata": {
    "scrolled": false
   },
   "outputs": [
    {
     "data": {
      "text/plain": [
       "{1: 7, 2: 20000}"
      ]
     },
     "execution_count": 20,
     "metadata": {},
     "output_type": "execute_result"
    }
   ],
   "source": [
    "info\n",
    "constr"
   ]
  },
  {
   "cell_type": "markdown",
   "metadata": {},
   "source": [
    "<h2>setting Object</h2>"
   ]
  },
  {
   "cell_type": "code",
   "execution_count": 21,
   "metadata": {},
   "outputs": [
    {
     "name": "stdout",
     "output_type": "stream",
     "text": [
      "Gurobi Optimizer version 9.1.2 build v9.1.2rc0 (mac64)\n",
      "Thread count: 4 physical cores, 8 logical processors, using up to 8 threads\n",
      "Optimize a model with 2 rows, 4 columns and 8 nonzeros\n",
      "Model fingerprint: 0x7adefd50\n",
      "Variable types: 0 continuous, 4 integer (4 binary)\n",
      "Coefficient statistics:\n",
      "  Matrix range     [2e+00, 7e+03]\n",
      "  Objective range  [2e+01, 3e+01]\n",
      "  Bounds range     [1e+00, 1e+00]\n",
      "  RHS range        [7e+00, 2e+04]\n",
      "Found heuristic solution: objective 35.0000000\n",
      "Presolve removed 2 rows and 4 columns\n",
      "Presolve time: 0.00s\n",
      "Presolve: All rows and columns removed\n",
      "\n",
      "Explored 0 nodes (0 simplex iterations) in 0.01 seconds\n",
      "Thread count was 1 (of 8 available processors)\n",
      "\n",
      "Solution count 2: 44 35 \n",
      "\n",
      "Optimal solution found (tolerance 1.00e-04)\n",
      "Best objective 4.400000000000e+01, best bound 4.400000000000e+01, gap 0.0000%\n",
      "optimize value =  44.0\n"
     ]
    }
   ],
   "source": [
    "model.setObjective(quicksum(x[n]*value[n] for n in range(1,N+1)),GRB.MAXIMIZE)\n",
    "model.optimize()\n",
    "print('optimize value = ',model.objVal)"
   ]
  },
  {
   "cell_type": "code",
   "execution_count": 22,
   "metadata": {},
   "outputs": [
    {
     "name": "stdout",
     "output_type": "stream",
     "text": [
      "No.1 is chosen 1.0 time\n",
      "No.4 is chosen 1.0 time\n"
     ]
    }
   ],
   "source": [
    "EPS = 1.e-6\n",
    "for n in range(1,N+1):\n",
    "    if x[n].X > EPS:\n",
    "        print(\"No.%s is chosen %s time\"%(n,x[n].X))"
   ]
  },
  {
   "cell_type": "markdown",
   "metadata": {},
   "source": [
    "<h2>output file</h2>"
   ]
  },
  {
   "cell_type": "code",
   "execution_count": 23,
   "metadata": {},
   "outputs": [
    {
     "name": "stdout",
     "output_type": "stream",
     "text": [
      "Warning: constraint name \"constraint on weight and value\" has a space\n",
      "Warning: constraint name \"constraint on weight and value\" has a space\n",
      "Warning: default constraint names used to write mps file\n"
     ]
    }
   ],
   "source": [
    "model.update()\n",
    "model.write(\"out.lp\")\n",
    "model.write(\"out.mps\")"
   ]
  },
  {
   "cell_type": "code",
   "execution_count": null,
   "metadata": {},
   "outputs": [],
   "source": []
  }
 ],
 "metadata": {
  "kernelspec": {
   "display_name": "Python 3",
   "language": "python",
   "name": "python3"
  },
  "language_info": {
   "codemirror_mode": {
    "name": "ipython",
    "version": 3
   },
   "file_extension": ".py",
   "mimetype": "text/x-python",
   "name": "python",
   "nbconvert_exporter": "python",
   "pygments_lexer": "ipython3",
   "version": "3.8.5"
  }
 },
 "nbformat": 4,
 "nbformat_minor": 4
}
