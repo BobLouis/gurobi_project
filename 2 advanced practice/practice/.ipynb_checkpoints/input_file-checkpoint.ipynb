{
 "cells": [
  {
   "cell_type": "markdown",
   "metadata": {},
   "source": [
    "<h2>input file</h2>"
   ]
  },
  {
   "cell_type": "code",
   "execution_count": 1,
   "metadata": {},
   "outputs": [],
   "source": [
    "import os\n",
    "import fnmatch, re"
   ]
  },
  {
   "cell_type": "code",
   "execution_count": 6,
   "metadata": {
    "scrolled": true
   },
   "outputs": [
    {
     "name": "stdout",
     "output_type": "stream",
     "text": [
      "0 input1.txt\n"
     ]
    }
   ],
   "source": [
    "path = '/Users/kounuki/python_project/Gurobi/2 advanced practice/practice'\n",
    "files = fnmatch.filter(os.listdir(path), \"*.txt\")\n",
    "for i in range(len(files)):\n",
    "    print(i, files[i])"
   ]
  },
  {
   "cell_type": "markdown",
   "metadata": {},
   "source": [
    "<h2>process data</h2>"
   ]
  },
  {
   "cell_type": "code",
   "execution_count": 55,
   "metadata": {
    "scrolled": false
   },
   "outputs": [
    {
     "name": "stdout",
     "output_type": "stream",
     "text": [
      "value {1: 16, 2: 19, 3: 23, 4: 28}\n",
      "info {(1, 1): 2, (1, 2): 3, (1, 3): 4, (1, 4): 5, (2, 1): 3000, (2, 2): 3500, (2, 3): 5100, (2, 4): 7200}\n",
      "constr {1: 7, 2: 10000}\n"
     ]
    }
   ],
   "source": [
    "with open (files[0]) as f:\n",
    "    contents = f.readlines()\n",
    "f.close()\n",
    "\n",
    "M, N = contents[0].split()\n",
    "M = int(M)\n",
    "N = int(N)\n",
    "info = {}\n",
    "value = {}\n",
    "constr = {}\n",
    "for n in range(1,N+1):\n",
    "    value[n] = contents[1].split()[n-1]\n",
    "    value[n] = value[n].split('[')[0]\n",
    "    value[n] = int(value[n])\n",
    "print('value',value)\n",
    "for m in range(1,M+1):\n",
    "    for n in range(1,N+1):\n",
    "        info[m,n] = contents[m+1].split()[n-1]\n",
    "        info[m,n] = info[m,n].split('[')[0]\n",
    "        info[m,n] = int(info[m,n])\n",
    "    constr[m] = contents[m+1].split()[N]\n",
    "    constr[m] = constr[m].split('[')[0]\n",
    "    constr[m] = int(constr[m])\n",
    "print('info',info)\n",
    "print('constr',constr)"
   ]
  },
  {
   "cell_type": "markdown",
   "metadata": {},
   "source": [
    "<h2>gurobi solving problem</h2>"
   ]
  },
  {
   "cell_type": "code",
   "execution_count": 52,
   "metadata": {},
   "outputs": [],
   "source": [
    "from gurobipy import*"
   ]
  },
  {
   "cell_type": "code",
   "execution_count": 56,
   "metadata": {},
   "outputs": [
    {
     "name": "stdout",
     "output_type": "stream",
     "text": [
      "Academic license - for non-commercial use only - expires 2022-08-16\n",
      "Using license file /Users/kounuki/gurobi.lic\n"
     ]
    }
   ],
   "source": [
    "model = Model(\"knap\")\n",
    "x = {}"
   ]
  },
  {
   "cell_type": "code",
   "execution_count": 62,
   "metadata": {},
   "outputs": [],
   "source": [
    "for n in range(1,N+1):\n",
    "    x[n] = model.addVar(lb = 0,ub = GRB.INFINITY,vtype = \"B\",name = \"item%s\"%n)\n",
    "model.update()"
   ]
  },
  {
   "cell_type": "code",
   "execution_count": 63,
   "metadata": {},
   "outputs": [
    {
     "name": "stdout",
     "output_type": "stream",
     "text": [
      "{1: <gurobi.Var item1>, 2: <gurobi.Var item2>, 3: <gurobi.Var item3>, 4: <gurobi.Var item4>}\n"
     ]
    }
   ],
   "source": [
    "print(x)"
   ]
  },
  {
   "cell_type": "markdown",
   "metadata": {},
   "source": [
    "<h2>setting constraint</h2>"
   ]
  },
  {
   "cell_type": "code",
   "execution_count": 77,
   "metadata": {},
   "outputs": [],
   "source": [
    "for m in range(1,M+1):\n",
    "    model.addConstr(quicksum(info[m,n]*x[n] for n in range(1,N+1)) <= constr[m],name = \"constraint on weight and value\")\n"
   ]
  },
  {
   "cell_type": "markdown",
   "metadata": {},
   "source": [
    "<h2>setting Object</h2>"
   ]
  },
  {
   "cell_type": "code",
   "execution_count": 81,
   "metadata": {},
   "outputs": [
    {
     "name": "stdout",
     "output_type": "stream",
     "text": [
      "Gurobi Optimizer version 9.1.2 build v9.1.2rc0 (mac64)\n",
      "Thread count: 4 physical cores, 8 logical processors, using up to 8 threads\n",
      "Optimize a model with 2 rows, 8 columns and 8 nonzeros\n",
      "Model fingerprint: 0x0eb86d8f\n",
      "Variable types: 0 continuous, 8 integer (4 binary)\n",
      "Coefficient statistics:\n",
      "  Matrix range     [2e+00, 7e+03]\n",
      "  Objective range  [2e+01, 3e+01]\n",
      "  Bounds range     [1e+00, 1e+00]\n",
      "  RHS range        [7e+00, 1e+04]\n",
      "\n",
      "Loaded MIP start from previous solve with objective 42\n",
      "\n",
      "Presolve removed 2 rows and 8 columns\n",
      "Presolve time: 0.00s\n",
      "Presolve: All rows and columns removed\n",
      "\n",
      "Explored 0 nodes (0 simplex iterations) in 0.01 seconds\n",
      "Thread count was 1 (of 8 available processors)\n",
      "\n",
      "Solution count 1: 42 \n",
      "\n",
      "Optimal solution found (tolerance 1.00e-04)\n",
      "Best objective 4.200000000000e+01, best bound 4.200000000000e+01, gap 0.0000%\n",
      "optimize value =  42.0\n"
     ]
    }
   ],
   "source": [
    "model.setObjective(quicksum(x[n]*value[n] for n in range(1,N+1)),GRB.MAXIMIZE)\n",
    "model.optimize()\n",
    "print('optimize value = ',model.objVal)"
   ]
  },
  {
   "cell_type": "code",
   "execution_count": 83,
   "metadata": {},
   "outputs": [
    {
     "name": "stdout",
     "output_type": "stream",
     "text": [
      "No.2 is chosen 1.0 time\n",
      "No.3 is chosen 1.0 time\n"
     ]
    }
   ],
   "source": [
    "EPS = 1.e-6\n",
    "for n in range(1,N+1):\n",
    "    if x[n].X > EPS:\n",
    "        print(\"No.%s is chosen %s time\"%(n,x[n].X))"
   ]
  },
  {
   "cell_type": "code",
   "execution_count": null,
   "metadata": {},
   "outputs": [],
   "source": []
  }
 ],
 "metadata": {
  "kernelspec": {
   "display_name": "Python 3",
   "language": "python",
   "name": "python3"
  },
  "language_info": {
   "codemirror_mode": {
    "name": "ipython",
    "version": 3
   },
   "file_extension": ".py",
   "mimetype": "text/x-python",
   "name": "python",
   "nbconvert_exporter": "python",
   "pygments_lexer": "ipython3",
   "version": "3.8.5"
  }
 },
 "nbformat": 4,
 "nbformat_minor": 4
}
