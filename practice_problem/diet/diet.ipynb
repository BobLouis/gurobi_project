{
 "cells": [
  {
   "cell_type": "code",
   "execution_count": 29,
   "metadata": {},
   "outputs": [],
   "source": [
    "from gurobipy import*"
   ]
  },
  {
   "cell_type": "code",
   "execution_count": 30,
   "metadata": {},
   "outputs": [],
   "source": [
    "F, c = multidict({1:0.18, 2:0.23, 3:0.05}) #food cost\n",
    "a = {\n",
    "    (1,1):107,(1,2):500,(1,3):0,\n",
    "    (2,1):72, (2,2):121,(2,3):65\n",
    "}\n",
    "N, Nmin = multidict({1:5000, 2:2000})\n",
    "N, Nmax = multidict({1:50000, 2:2250})\n"
   ]
  },
  {
   "cell_type": "code",
   "execution_count": 31,
   "metadata": {},
   "outputs": [
    {
     "name": "stdout",
     "output_type": "stream",
     "text": [
      "[1, 2, 3]\n",
      "{1: 0.18, 2: 0.23, 3: 0.05}\n",
      "{(1, 1): 107, (1, 2): 500, (1, 3): 0, (2, 1): 72, (2, 2): 121, (2, 3): 65}\n",
      "{1: 5000, 2: 2000}\n",
      "{1: 50000, 2: 2250}\n",
      "[1, 2]\n"
     ]
    }
   ],
   "source": [
    "print(F)\n",
    "print(c)\n",
    "print(a)\n",
    "print(Nmin)\n",
    "print(Nmax)\n",
    "print(N)"
   ]
  },
  {
   "cell_type": "code",
   "execution_count": 32,
   "metadata": {},
   "outputs": [],
   "source": [
    "model = Model(\"diet\")\n",
    "x = {}"
   ]
  },
  {
   "cell_type": "code",
   "execution_count": 33,
   "metadata": {},
   "outputs": [],
   "source": [
    "for f in F:\n",
    "    x[f] = model.addVar(lb = 0,ub = 10,vtype = \"C\",name = \"item%s\"%f)\n",
    "model.update()"
   ]
  },
  {
   "cell_type": "code",
   "execution_count": 34,
   "metadata": {
    "scrolled": true
   },
   "outputs": [],
   "source": [
    "for n in N:\n",
    "    model.addConstr(quicksum(a[n,f]*x[f] for f in F) >= Nmin[n], name = \"nutrient lower bound\")\n",
    "    model.addConstr(quicksum(a[n,f]*x[f] for f in F) <= Nmax[n], name = \"nutrient upper bound\")"
   ]
  },
  {
   "cell_type": "code",
   "execution_count": 35,
   "metadata": {},
   "outputs": [
    {
     "name": "stdout",
     "output_type": "stream",
     "text": [
      "{1: <gurobi.Var item1>, 2: <gurobi.Var item2>, 3: <gurobi.Var item3>}\n"
     ]
    }
   ],
   "source": [
    "print(x)"
   ]
  },
  {
   "cell_type": "code",
   "execution_count": 37,
   "metadata": {},
   "outputs": [
    {
     "name": "stdout",
     "output_type": "stream",
     "text": [
      "Gurobi Optimizer version 9.1.2 build v9.1.2rc0 (mac64)\n",
      "Thread count: 4 physical cores, 8 logical processors, using up to 8 threads\n",
      "Optimize a model with 4 rows, 3 columns and 10 nonzeros\n",
      "Coefficient statistics:\n",
      "  Matrix range     [6e+01, 5e+02]\n",
      "  Objective range  [5e-02, 2e-01]\n",
      "  Bounds range     [1e+01, 1e+01]\n",
      "  RHS range        [2e+03, 5e+04]\n",
      "Iteration    Objective       Primal Inf.    Dual Inf.      Time\n",
      "       0    3.1500000e+00   0.000000e+00   0.000000e+00      0s\n",
      "\n",
      "Solved in 0 iterations and 0.00 seconds\n",
      "Optimal objective  3.150000000e+00\n",
      "opti value 3.1500000000000004\n"
     ]
    }
   ],
   "source": [
    "model.setObjective(quicksum(c[f]*x[f] for f in F), GRB.MINIMIZE)\n",
    "model.optimize()\n",
    "print(\"opti value\",model.objVal)"
   ]
  },
  {
   "cell_type": "code",
   "execution_count": 38,
   "metadata": {},
   "outputs": [
    {
     "name": "stdout",
     "output_type": "stream",
     "text": [
      "<gurobi.Var item1 (value 1.9444444444444444)>\n",
      "<gurobi.Var item2 (value 10.0)>\n",
      "<gurobi.Var item3 (value 10.0)>\n"
     ]
    }
   ],
   "source": [
    "EPS = 1.e-6\n",
    "for f in F:\n",
    "    if x[f].X > EPS:\n",
    "        print(x[f])"
   ]
  },
  {
   "cell_type": "code",
   "execution_count": null,
   "metadata": {},
   "outputs": [],
   "source": []
  }
 ],
 "metadata": {
  "kernelspec": {
   "display_name": "Python 3",
   "language": "python",
   "name": "python3"
  },
  "language_info": {
   "codemirror_mode": {
    "name": "ipython",
    "version": 3
   },
   "file_extension": ".py",
   "mimetype": "text/x-python",
   "name": "python",
   "nbconvert_exporter": "python",
   "pygments_lexer": "ipython3",
   "version": "3.8.5"
  }
 },
 "nbformat": 4,
 "nbformat_minor": 5
}
