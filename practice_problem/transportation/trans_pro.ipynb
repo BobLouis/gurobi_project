{
 "cells": [
  {
   "cell_type": "code",
   "execution_count": 1,
   "metadata": {},
   "outputs": [],
   "source": [
    "from gurobipy import*"
   ]
  },
  {
   "cell_type": "code",
   "execution_count": 2,
   "metadata": {},
   "outputs": [],
   "source": [
    "I, s = multidict({1:35,2:50,3:40})\n",
    "J, d = multidict({1:45,2:20,3:30,4:30})\n",
    "c = {\n",
    "    (1,1):8,(1,2):6,(1,3):10,(1,4):9,\n",
    "    (2,1):9,(2,2):12,(2,3):13,(2,4):7,\n",
    "    (3,1):14,(3,2):9,(3,3):16,(3,4):5\n",
    "}"
   ]
  },
  {
   "cell_type": "code",
   "execution_count": 5,
   "metadata": {},
   "outputs": [],
   "source": [
    "model = Model(\"trans\")\n",
    "x={}"
   ]
  },
  {
   "cell_type": "code",
   "execution_count": 9,
   "metadata": {},
   "outputs": [],
   "source": [
    "for i in I:\n",
    "    for j in J:\n",
    "        x[i,j] = model.addVar(lb=0,vtype=\"C\",name = \"x[%s,%s]\"%(i,j))\n",
    "        \n",
    "model.update()"
   ]
  },
  {
   "cell_type": "code",
   "execution_count": 10,
   "metadata": {},
   "outputs": [],
   "source": [
    "for i in I:\n",
    "    model.addConstr(quicksum(x[i,j] for j in J) <= s[i])\n",
    "for j in J:\n",
    "    model.addConstr(quicksum(x[i,j] for i in I) >= d[j])"
   ]
  },
  {
   "cell_type": "code",
   "execution_count": 13,
   "metadata": {},
   "outputs": [
    {
     "name": "stdout",
     "output_type": "stream",
     "text": [
      "Gurobi Optimizer version 9.1.2 build v9.1.2rc0 (mac64)\n",
      "Thread count: 4 physical cores, 8 logical processors, using up to 8 threads\n",
      "Optimize a model with 17 rows, 24 columns and 60 nonzeros\n",
      "Coefficient statistics:\n",
      "  Matrix range     [1e+00, 1e+00]\n",
      "  Objective range  [5e+00, 2e+01]\n",
      "  Bounds range     [0e+00, 0e+00]\n",
      "  RHS range        [2e+01, 5e+01]\n",
      "Iteration    Objective       Primal Inf.    Dual Inf.      Time\n",
      "       0    1.0200000e+03   0.000000e+00   0.000000e+00      0s\n",
      "\n",
      "Solved in 0 iterations and 0.01 seconds\n",
      "Optimal objective  1.020000000e+03\n",
      "optimal value 1020.0\n"
     ]
    }
   ],
   "source": [
    "model.setObjective(quicksum(c[i,j]*x[i,j] for (i,j) in x),GRB.MINIMIZE)\n",
    "model.optimize()\n",
    "print(\"optimal value\",model.objVal)"
   ]
  },
  {
   "cell_type": "code",
   "execution_count": 15,
   "metadata": {},
   "outputs": [
    {
     "name": "stdout",
     "output_type": "stream",
     "text": [
      "x[1,2] = 10.0\n",
      "x[1,3] = 25.0\n",
      "x[2,1] = 45.0\n",
      "x[2,3] = 5.0\n",
      "x[3,2] = 10.0\n",
      "x[3,4] = 30.0\n"
     ]
    }
   ],
   "source": [
    "EPS = 1.e-6\n",
    "for (i,j) in x:\n",
    "    if x[i,j].X>EPS:\n",
    "        print(\"x[%s,%s] = %s\"%(i,j,x[i,j].X))"
   ]
  },
  {
   "cell_type": "code",
   "execution_count": null,
   "metadata": {},
   "outputs": [],
   "source": []
  }
 ],
 "metadata": {
  "kernelspec": {
   "display_name": "Python 3",
   "language": "python",
   "name": "python3"
  },
  "language_info": {
   "codemirror_mode": {
    "name": "ipython",
    "version": 3
   },
   "file_extension": ".py",
   "mimetype": "text/x-python",
   "name": "python",
   "nbconvert_exporter": "python",
   "pygments_lexer": "ipython3",
   "version": "3.8.5"
  }
 },
 "nbformat": 4,
 "nbformat_minor": 4
}
