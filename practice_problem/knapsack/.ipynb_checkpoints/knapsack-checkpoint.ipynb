{
 "cells": [
  {
   "cell_type": "code",
   "execution_count": 2,
   "metadata": {},
   "outputs": [],
   "source": [
    "from gurobipy import*"
   ]
  },
  {
   "cell_type": "code",
   "execution_count": 6,
   "metadata": {},
   "outputs": [],
   "source": [
    "J, v = multidict({1:15, 2:17, 3:24, 4:30})\n",
    "a = {\n",
    "    (1,1):3, (1,2):5, (1,3):7, (1,4):9,\n",
    "    (2,1):3000, (2,2):3400, (2,3):5700, (2,4):7800\n",
    "}\n",
    "I, b = multidict({1:22, 2:15000})"
   ]
  },
  {
   "cell_type": "code",
   "execution_count": 7,
   "metadata": {},
   "outputs": [
    {
     "name": "stdout",
     "output_type": "stream",
     "text": [
      "[1, 2, 3, 4]\n",
      "{1: 15, 2: 17, 3: 24, 4: 30}\n",
      "{(1, 1): 3, (1, 2): 5, (1, 3): 7, (1, 4): 9, (2, 1): 3000, (2, 2): 3400, (2, 3): 5700, (2, 4): 7800}\n",
      "[1, 2]\n",
      "{1: 22, 2: 15000}\n"
     ]
    }
   ],
   "source": [
    "print(J)\n",
    "print(v)\n",
    "print(a)\n",
    "print(I)\n",
    "print(b)"
   ]
  },
  {
   "cell_type": "code",
   "execution_count": 9,
   "metadata": {},
   "outputs": [],
   "source": [
    "model = Model(\"knap\")\n",
    "x={}"
   ]
  },
  {
   "cell_type": "code",
   "execution_count": 10,
   "metadata": {},
   "outputs": [],
   "source": [
    "for j in J:\n",
    "    x[j] = model.addVar(lb=0,ub=1,vtype = \"I\",name=\"item%s\"%j)"
   ]
  },
  {
   "cell_type": "code",
   "execution_count": 11,
   "metadata": {},
   "outputs": [],
   "source": [
    "for i in I:\n",
    "    model.addConstr(quicksum(x[j]*a[i,j] for j in J) <= b[i],name=\"weight and value constraint\")"
   ]
  },
  {
   "cell_type": "code",
   "execution_count": 14,
   "metadata": {},
   "outputs": [
    {
     "name": "stdout",
     "output_type": "stream",
     "text": [
      "Gurobi Optimizer version 9.1.2 build v9.1.2rc0 (mac64)\n",
      "Thread count: 4 physical cores, 8 logical processors, using up to 8 threads\n",
      "Optimize a model with 2 rows, 4 columns and 8 nonzeros\n",
      "Model fingerprint: 0x57f913b3\n",
      "Variable types: 0 continuous, 4 integer (0 binary)\n",
      "Coefficient statistics:\n",
      "  Matrix range     [3e+00, 8e+03]\n",
      "  Objective range  [2e+01, 3e+01]\n",
      "  Bounds range     [1e+00, 1e+00]\n",
      "  RHS range        [2e+01, 2e+04]\n",
      "\n",
      "Loaded MIP start from previous solve with objective 62\n",
      "\n",
      "Presolve removed 2 rows and 4 columns\n",
      "Presolve time: 0.00s\n",
      "Presolve: All rows and columns removed\n",
      "\n",
      "Explored 0 nodes (0 simplex iterations) in 0.01 seconds\n",
      "Thread count was 1 (of 8 available processors)\n",
      "\n",
      "Solution count 1: 62 \n",
      "\n",
      "Optimal solution found (tolerance 1.00e-04)\n",
      "Best objective 6.200000000000e+01, best bound 6.200000000000e+01, gap 0.0000%\n",
      "optimal value =  62.0\n"
     ]
    }
   ],
   "source": [
    "model.setObjective(quicksum(x[j]*v[j] for j in J),GRB.MAXIMIZE)\n",
    "model.optimize()\n",
    "print(\"optimal value = \", model.objVal)"
   ]
  },
  {
   "cell_type": "code",
   "execution_count": 17,
   "metadata": {},
   "outputs": [
    {
     "name": "stdout",
     "output_type": "stream",
     "text": [
      "x(1) = 1.0\n",
      "x(2) = 1.0\n",
      "x(4) = 1.0\n"
     ]
    }
   ],
   "source": [
    "EPS = 1.e-6\n",
    "for j in J:\n",
    "    if x[j].X>EPS:\n",
    "        print(\"x(%s) = %s\"%(j,x[j].X))"
   ]
  },
  {
   "cell_type": "code",
   "execution_count": null,
   "metadata": {},
   "outputs": [],
   "source": []
  }
 ],
 "metadata": {
  "kernelspec": {
   "display_name": "Python 3",
   "language": "python",
   "name": "python3"
  },
  "language_info": {
   "codemirror_mode": {
    "name": "ipython",
    "version": 3
   },
   "file_extension": ".py",
   "mimetype": "text/x-python",
   "name": "python",
   "nbconvert_exporter": "python",
   "pygments_lexer": "ipython3",
   "version": "3.8.5"
  }
 },
 "nbformat": 4,
 "nbformat_minor": 4
}
