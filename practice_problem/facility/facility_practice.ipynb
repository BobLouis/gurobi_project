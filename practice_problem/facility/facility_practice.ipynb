{
 "cells": [
  {
   "cell_type": "code",
   "execution_count": 1,
   "metadata": {},
   "outputs": [],
   "source": [
    "from gurobipy import*"
   ]
  },
  {
   "cell_type": "code",
   "execution_count": 2,
   "metadata": {},
   "outputs": [],
   "source": [
    "Facility, Capacity = multidict({1:28, 2:20, 3:24, 4:24})\n",
    "Facility, Fixed_cost = multidict({1:23, 2:12, 3:18, 4:32})\n",
    "Customer, Demand = multidict({1:22, 2:14, 3:26})\n",
    "# (Facility, customer)\n",
    "Transport_cost = {\n",
    "    (1,1):10, (1,2):24, (1,3):36,\n",
    "    (2,1):20, (2,2):16, (2,3):14,\n",
    "    (3,1):30, (3,2):22, (3,3):12,\n",
    "    (4,1):40, (4,2):30, (4,3):8\n",
    "}"
   ]
  },
  {
   "cell_type": "code",
   "execution_count": 3,
   "metadata": {},
   "outputs": [
    {
     "name": "stdout",
     "output_type": "stream",
     "text": [
      "Academic license - for non-commercial use only - expires 2022-08-16\n",
      "Using license file /Users/kounuki/gurobi.lic\n"
     ]
    }
   ],
   "source": [
    "model = Model(\"Facility\")\n",
    "x={}\n",
    "y={}"
   ]
  },
  {
   "cell_type": "code",
   "execution_count": 5,
   "metadata": {},
   "outputs": [],
   "source": [
    "for f in Facility:\n",
    "    y[f] = model.addVar(vtype=\"B\",name = \"y(%s)\"%f)\n",
    "    for c in Customer:\n",
    "        x[f,c] = model.addVar(vtype=\"C\",name = \"x(%s,%s)\"%(f,c))\n",
    "model.update()"
   ]
  },
  {
   "cell_type": "code",
   "execution_count": 6,
   "metadata": {},
   "outputs": [],
   "source": [
    "for f in Facility:\n",
    "    model.addConstr(quicksum(x[f,c] for c in Customer) <= Capacity[f]*y[f],name = \"supply constraint\")\n",
    "\n",
    "for c in Customer:\n",
    "    model.addConstr(quicksum(x[f,c] for f in Facility) >= Demand[c], name = \"demand constraint\")"
   ]
  },
  {
   "cell_type": "code",
   "execution_count": 10,
   "metadata": {},
   "outputs": [
    {
     "name": "stdout",
     "output_type": "stream",
     "text": [
      "Gurobi Optimizer version 9.1.2 build v9.1.2rc0 (mac64)\n",
      "Thread count: 4 physical cores, 8 logical processors, using up to 8 threads\n",
      "Optimize a model with 7 rows, 32 columns and 28 nonzeros\n",
      "Model fingerprint: 0x46be4640\n",
      "Variable types: 24 continuous, 8 integer (8 binary)\n",
      "Coefficient statistics:\n",
      "  Matrix range     [1e+00, 3e+01]\n",
      "  Objective range  [8e+00, 4e+01]\n",
      "  Bounds range     [1e+00, 1e+00]\n",
      "  RHS range        [1e+01, 3e+01]\n",
      "\n",
      "MIP start from previous solve produced solution with objective 731 (0.01s)\n",
      "Loaded MIP start from previous solve with objective 731\n",
      "\n",
      "Presolve removed 0 rows and 16 columns\n",
      "Presolve time: 0.00s\n",
      "Presolved: 7 rows, 16 columns, 28 nonzeros\n",
      "Variable types: 12 continuous, 4 integer (4 binary)\n",
      "\n",
      "Root relaxation: objective 7.199714e+02, 7 iterations, 0.00 seconds\n",
      "\n",
      "    Nodes    |    Current Node    |     Objective Bounds      |     Work\n",
      " Expl Unexpl |  Obj  Depth IntInf | Incumbent    BestBd   Gap | It/Node Time\n",
      "\n",
      "     0     0     cutoff    0       731.00000  731.00000  0.00%     -    0s\n",
      "\n",
      "Explored 0 nodes (9 simplex iterations) in 0.02 seconds\n",
      "Thread count was 8 (of 8 available processors)\n",
      "\n",
      "Solution count 1: 731 \n",
      "\n",
      "Optimal solution found (tolerance 1.00e-04)\n",
      "Best objective 7.310000000000e+02, best bound 7.310000000000e+02, gap 0.0000%\n",
      "optimal value 731.0\n"
     ]
    }
   ],
   "source": [
    "model.setObjective(quicksum(Fixed_cost[f]*y[f] for f in Facility)+quicksum(Transport_cost[f,c]*x[f,c] for (f,c) in x))\n",
    "model.optimize()\n",
    "print(\"optimal value\",model.objVal)"
   ]
  },
  {
   "cell_type": "code",
   "execution_count": 13,
   "metadata": {},
   "outputs": [
    {
     "name": "stdout",
     "output_type": "stream",
     "text": [
      "X[1,1] = 22.0\n",
      "X[2,2] = 14.0\n",
      "X[2,3] = 2.0\n",
      "X[4,3] = 24.0\n",
      "y[1]\n",
      "y[2]\n",
      "y[4]\n"
     ]
    }
   ],
   "source": [
    "EPS = 1.e-6\n",
    "for (f,c) in x:\n",
    "    if x[f,c].X > EPS:\n",
    "        print(\"X[%s,%s] = %s\"%(f,c,x[f,c].X))\n",
    "for f in Facility:\n",
    "    if y[f].X > EPS:\n",
    "        print(\"y[%s]\"%f)"
   ]
  },
  {
   "cell_type": "code",
   "execution_count": null,
   "metadata": {},
   "outputs": [],
   "source": []
  }
 ],
 "metadata": {
  "kernelspec": {
   "display_name": "Python 3",
   "language": "python",
   "name": "python3"
  },
  "language_info": {
   "codemirror_mode": {
    "name": "ipython",
    "version": 3
   },
   "file_extension": ".py",
   "mimetype": "text/x-python",
   "name": "python",
   "nbconvert_exporter": "python",
   "pygments_lexer": "ipython3",
   "version": "3.8.5"
  }
 },
 "nbformat": 4,
 "nbformat_minor": 4
}
