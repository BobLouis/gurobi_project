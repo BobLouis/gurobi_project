{
 "cells": [
  {
   "cell_type": "code",
   "execution_count": 1,
   "metadata": {},
   "outputs": [],
   "source": [
    "from gurobipy import*"
   ]
  },
  {
   "cell_type": "code",
   "execution_count": 2,
   "metadata": {},
   "outputs": [],
   "source": [
    "Facility, Capacity = multidict({1:28, 2:20, 3:24, 4:24})\n",
    "Facility, Fixed_cost = multidict({1:23, 2:12, 3:18, 4:32})\n",
    "Customer, Demand = multidict({1:22, 2:14, 3:26})\n",
    "# (Facility, customer)\n",
    "Transport_cost = {\n",
    "    (1,1):10, (1,2):24, (1,3):36,\n",
    "    (2,1):20, (2,2):16, (2,3):14,\n",
    "    (3,1):30, (3,2):22, (3,3):12,\n",
    "    (4,1):40, (4,2):30, (4,3):8\n",
    "}"
   ]
  },
  {
   "cell_type": "code",
   "execution_count": 3,
   "metadata": {},
   "outputs": [
    {
     "name": "stdout",
     "output_type": "stream",
     "text": [
      "Academic license - for non-commercial use only - expires 2022-08-16\n",
      "Using license file /Users/kounuki/gurobi.lic\n"
     ]
    }
   ],
   "source": [
    "model = Model(\"Facility\")\n",
    "x={}\n",
    "y={}"
   ]
  },
  {
   "cell_type": "code",
   "execution_count": 4,
   "metadata": {},
   "outputs": [],
   "source": [
    "for f in Facility:\n",
    "    y[f] = model.addVar(vtype=\"B\",name = \"y(%s)\"%f)\n",
    "    for c in Customer:\n",
    "        x[f,c] = model.addVar(vtype=\"C\",name = \"x(%s,%s)\"%(f,c))"
   ]
  },
  {
   "cell_type": "code",
   "execution_count": null,
   "metadata": {},
   "outputs": [],
   "source": []
  }
 ],
 "metadata": {
  "kernelspec": {
   "display_name": "Python 3",
   "language": "python",
   "name": "python3"
  },
  "language_info": {
   "codemirror_mode": {
    "name": "ipython",
    "version": 3
   },
   "file_extension": ".py",
   "mimetype": "text/x-python",
   "name": "python",
   "nbconvert_exporter": "python",
   "pygments_lexer": "ipython3",
   "version": "3.8.5"
  }
 },
 "nbformat": 4,
 "nbformat_minor": 4
}
