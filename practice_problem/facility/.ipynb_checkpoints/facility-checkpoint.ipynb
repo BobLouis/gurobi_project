{
 "cells": [
  {
   "cell_type": "code",
   "execution_count": 47,
   "metadata": {},
   "outputs": [],
   "source": [
    "from gurobipy import*"
   ]
  },
  {
   "cell_type": "code",
   "execution_count": 48,
   "metadata": {},
   "outputs": [],
   "source": [
    "F, u = multidict({1:28, 2:20, 3:24, 4:24})#production capacity\n",
    "F, fixed_cost = multidict({1:23, 2:12, 3:18, 4:32})#fixed cost\n",
    "C, d = multidict({1:22, 2:14, 3:26})#Customer demand \n",
    "# (F,C) \n",
    "transport_cost = {\n",
    "    (1,1):10, (1,2):24, (1,3):36,\n",
    "    (2,1):20, (2,2):16, (2,3):14,\n",
    "    (3,1):30, (3,2):22, (3,3):12,\n",
    "    (4,1):40, (4,2):30, (4,3):8\n",
    "}\n"
   ]
  },
  {
   "cell_type": "code",
   "execution_count": 49,
   "metadata": {
    "scrolled": true
   },
   "outputs": [],
   "source": [
    "model = Model(\"facility\")\n",
    "x={}\n",
    "y={}"
   ]
  },
  {
   "cell_type": "code",
   "execution_count": 50,
   "metadata": {},
   "outputs": [],
   "source": [
    "for f in F:\n",
    "    y[f] = model.addVar(vtype = \"B\",name = \"y(%s)\"%f)\n",
    "    for c in C:\n",
    "        x[f,c] = model.addVar(lb = 0,vtype = \"C\",name = \"x(%s,%s)\"%(f,c))\n",
    "\n",
    "\n",
    "model.update()"
   ]
  },
  {
   "cell_type": "code",
   "execution_count": 51,
   "metadata": {},
   "outputs": [],
   "source": [
    "# limitatiion on capacity\n",
    "for f in F:\n",
    "    model.addConstr(quicksum(x[f,c] for c in C) <= u[f]*y[f])\n",
    "for c in C:\n",
    "    model.addConstr(quicksum(x[f,c] for f in F) >= d[c])"
   ]
  },
  {
   "cell_type": "code",
   "execution_count": 53,
   "metadata": {},
   "outputs": [
    {
     "name": "stdout",
     "output_type": "stream",
     "text": [
      "Gurobi Optimizer version 9.1.2 build v9.1.2rc0 (mac64)\n",
      "Thread count: 4 physical cores, 8 logical processors, using up to 8 threads\n",
      "Optimize a model with 7 rows, 16 columns and 28 nonzeros\n",
      "Model fingerprint: 0x39f80f7d\n",
      "Variable types: 12 continuous, 4 integer (4 binary)\n",
      "Coefficient statistics:\n",
      "  Matrix range     [1e+00, 3e+01]\n",
      "  Objective range  [8e+00, 4e+01]\n",
      "  Bounds range     [1e+00, 1e+00]\n",
      "  RHS range        [1e+01, 3e+01]\n",
      "\n",
      "MIP start from previous solve produced solution with objective 731 (0.01s)\n",
      "Loaded MIP start from previous solve with objective 731\n",
      "\n",
      "Presolve time: 0.00s\n",
      "Presolved: 7 rows, 16 columns, 28 nonzeros\n",
      "Variable types: 12 continuous, 4 integer (4 binary)\n",
      "\n",
      "Root relaxation: objective 7.199714e+02, 7 iterations, 0.00 seconds\n",
      "\n",
      "    Nodes    |    Current Node    |     Objective Bounds      |     Work\n",
      " Expl Unexpl |  Obj  Depth IntInf | Incumbent    BestBd   Gap | It/Node Time\n",
      "\n",
      "     0     0     cutoff    0       731.00000  731.00000  0.00%     -    0s\n",
      "\n",
      "Explored 0 nodes (9 simplex iterations) in 0.02 seconds\n",
      "Thread count was 8 (of 8 available processors)\n",
      "\n",
      "Solution count 1: 731 \n",
      "\n",
      "Optimal solution found (tolerance 1.00e-04)\n",
      "Best objective 7.310000000000e+02, best bound 7.310000000000e+02, gap 0.0000%\n",
      "optimal value 731.0\n"
     ]
    }
   ],
   "source": [
    "\n",
    "model.setObjective(quicksum(y[f]*fixed_cost[f] for f in F)+quicksum(transport_cost[f,c]*x[f,c] for (f,c) in x),GRB.MINIMIZE)\n",
    "model.optimize()\n",
    "print(\"optimal value\",model.objVal)"
   ]
  },
  {
   "cell_type": "code",
   "execution_count": 44,
   "metadata": {},
   "outputs": [],
   "source": [
    "model.write(\"facility.lp\")"
   ]
  },
  {
   "cell_type": "code",
   "execution_count": 45,
   "metadata": {},
   "outputs": [
    {
     "name": "stdout",
     "output_type": "stream",
     "text": [
      "x[1,1] = 22.0\n",
      "x[2,2] = 14.0\n",
      "x[2,3] = 2.0\n",
      "x[4,3] = 24.0\n"
     ]
    }
   ],
   "source": [
    "EPS = 1.e-6\n",
    "for (f,c) in x:\n",
    "    if x[f,c].X >EPS:\n",
    "        print('x[%s,%s] = %s'%(f,c,x[f,c].X))\n",
    "for f in y:"
   ]
  },
  {
   "cell_type": "code",
   "execution_count": 46,
   "metadata": {},
   "outputs": [
    {
     "name": "stdout",
     "output_type": "stream",
     "text": [
      "{(1, 1): <gurobi.Var x(1,1) (value 22.0)>, (1, 2): <gurobi.Var x(1,2) (value 0.0)>, (1, 3): <gurobi.Var x(1,3) (value 0.0)>, (2, 1): <gurobi.Var x(2,1) (value 0.0)>, (2, 2): <gurobi.Var x(2,2) (value 14.0)>, (2, 3): <gurobi.Var x(2,3) (value 2.0)>, (3, 1): <gurobi.Var x(3,1) (value 0.0)>, (3, 2): <gurobi.Var x(3,2) (value 0.0)>, (3, 3): <gurobi.Var x(3,3) (value 0.0)>, (4, 1): <gurobi.Var x(4,1) (value 0.0)>, (4, 2): <gurobi.Var x(4,2) (value 0.0)>, (4, 3): <gurobi.Var x(4,3) (value 24.0)>}\n"
     ]
    }
   ],
   "source": [
    "print(x)"
   ]
  },
  {
   "cell_type": "code",
   "execution_count": null,
   "metadata": {},
   "outputs": [],
   "source": []
  }
 ],
 "metadata": {
  "kernelspec": {
   "display_name": "Python 3",
   "language": "python",
   "name": "python3"
  },
  "language_info": {
   "codemirror_mode": {
    "name": "ipython",
    "version": 3
   },
   "file_extension": ".py",
   "mimetype": "text/x-python",
   "name": "python",
   "nbconvert_exporter": "python",
   "pygments_lexer": "ipython3",
   "version": "3.8.5"
  }
 },
 "nbformat": 4,
 "nbformat_minor": 4
}
